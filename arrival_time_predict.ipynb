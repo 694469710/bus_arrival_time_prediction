{
 "cells": [
  {
   "cell_type": "code",
   "execution_count": 489,
   "metadata": {
    "collapsed": true
   },
   "outputs": [],
   "source": [
    "import pandas as pd\n",
    "import numpy as np\n",
    "import time\n",
    "TM_FORMAT = \"%Y-%m-%d %H:%M:%S\""
   ]
  },
  {
   "cell_type": "markdown",
   "metadata": {},
   "source": [
    "---\n",
    "1. 数据清洗预处理\n",
    "---\n",
    "包括辅助数据准备，训练集测试集数据生成\n",
    "\n",
    "---"
   ]
  },
  {
   "cell_type": "markdown",
   "metadata": {},
   "source": [
    "#### 1.1 辅助数据准备，清洗info，stationInfo等文件"
   ]
  },
  {
   "cell_type": "code",
   "execution_count": 490,
   "metadata": {
    "collapsed": false
   },
   "outputs": [],
   "source": [
    "info_df = pd.read_csv('../datasets/bus_streamdata/info.csv', encoding='gbk')\n",
    "stationInfo_df = pd.read_csv('../datasets/bus_streamdata/stationInfo.csv', encoding='gbk')"
   ]
  },
  {
   "cell_type": "code",
   "execution_count": 491,
   "metadata": {
    "collapsed": false,
    "scrolled": true
   },
   "outputs": [
    {
     "data": {
      "text/html": [
       "<div>\n",
       "<table border=\"1\" class=\"dataframe\">\n",
       "  <thead>\n",
       "    <tr style=\"text-align: right;\">\n",
       "      <th></th>\n",
       "      <th>线路编码</th>\n",
       "      <th>线路名称</th>\n",
       "      <th>设备编码</th>\n",
       "      <th>内部编码</th>\n",
       "      <th>车牌号</th>\n",
       "    </tr>\n",
       "  </thead>\n",
       "  <tbody>\n",
       "    <tr>\n",
       "      <th>0</th>\n",
       "      <td>60001.0</td>\n",
       "      <td>1001路</td>\n",
       "      <td>059L3352</td>\n",
       "      <td>W7B-105</td>\n",
       "      <td>沪D-82920</td>\n",
       "    </tr>\n",
       "    <tr>\n",
       "      <th>1</th>\n",
       "      <td>60001.0</td>\n",
       "      <td>1001路</td>\n",
       "      <td>059L2612</td>\n",
       "      <td>W7B-104</td>\n",
       "      <td>沪D-82142</td>\n",
       "    </tr>\n",
       "    <tr>\n",
       "      <th>2</th>\n",
       "      <td>60001.0</td>\n",
       "      <td>1001路</td>\n",
       "      <td>059L2722</td>\n",
       "      <td>W7B-106</td>\n",
       "      <td>沪D-82453</td>\n",
       "    </tr>\n",
       "    <tr>\n",
       "      <th>3</th>\n",
       "      <td>60001.0</td>\n",
       "      <td>1001路</td>\n",
       "      <td>059L2636</td>\n",
       "      <td>W7B-107</td>\n",
       "      <td>沪D-82247</td>\n",
       "    </tr>\n",
       "    <tr>\n",
       "      <th>4</th>\n",
       "      <td>60001.0</td>\n",
       "      <td>1001路</td>\n",
       "      <td>059L2739</td>\n",
       "      <td>W7B-108</td>\n",
       "      <td>沪D-82939</td>\n",
       "    </tr>\n",
       "  </tbody>\n",
       "</table>\n",
       "</div>"
      ],
      "text/plain": [
       "      线路编码   线路名称      设备编码     内部编码       车牌号\n",
       "0  60001.0  1001路  059L3352  W7B-105  沪D-82920\n",
       "1  60001.0  1001路  059L2612  W7B-104  沪D-82142\n",
       "2  60001.0  1001路  059L2722  W7B-106  沪D-82453\n",
       "3  60001.0  1001路  059L2636  W7B-107  沪D-82247\n",
       "4  60001.0  1001路  059L2739  W7B-108  沪D-82939"
      ]
     },
     "execution_count": 491,
     "metadata": {},
     "output_type": "execute_result"
    }
   ],
   "source": [
    "info_df.head()"
   ]
  },
  {
   "cell_type": "code",
   "execution_count": 492,
   "metadata": {
    "collapsed": false
   },
   "outputs": [
    {
     "data": {
      "text/html": [
       "<div>\n",
       "<table border=\"1\" class=\"dataframe\">\n",
       "  <thead>\n",
       "    <tr style=\"text-align: right;\">\n",
       "      <th></th>\n",
       "      <th>XLID</th>\n",
       "      <th>SZGJFX</th>\n",
       "      <th>ZDID</th>\n",
       "      <th>ZDMC</th>\n",
       "      <th>SOURCE_LON</th>\n",
       "      <th>SOURCE_LAT</th>\n",
       "    </tr>\n",
       "  </thead>\n",
       "  <tbody>\n",
       "    <tr>\n",
       "      <th>37</th>\n",
       "      <td>10065</td>\n",
       "      <td>0</td>\n",
       "      <td>797D0001</td>\n",
       "      <td>东昌路渡口</td>\n",
       "      <td>121.499570</td>\n",
       "      <td>31.232475</td>\n",
       "    </tr>\n",
       "    <tr>\n",
       "      <th>38</th>\n",
       "      <td>10065</td>\n",
       "      <td>0</td>\n",
       "      <td>7A7C0002</td>\n",
       "      <td>陆家嘴环路名商路</td>\n",
       "      <td>121.496410</td>\n",
       "      <td>31.237362</td>\n",
       "    </tr>\n",
       "    <tr>\n",
       "      <th>39</th>\n",
       "      <td>10065</td>\n",
       "      <td>0</td>\n",
       "      <td>7B7C0008</td>\n",
       "      <td>陆家嘴环路丰和路</td>\n",
       "      <td>121.496742</td>\n",
       "      <td>31.241407</td>\n",
       "    </tr>\n",
       "    <tr>\n",
       "      <th>40</th>\n",
       "      <td>10065</td>\n",
       "      <td>0</td>\n",
       "      <td>7B7E0017</td>\n",
       "      <td>银城路浦东南路</td>\n",
       "      <td>121.505110</td>\n",
       "      <td>31.243448</td>\n",
       "    </tr>\n",
       "    <tr>\n",
       "      <th>41</th>\n",
       "      <td>10065</td>\n",
       "      <td>0</td>\n",
       "      <td>7B7F000E</td>\n",
       "      <td>银城路日照路</td>\n",
       "      <td>121.510583</td>\n",
       "      <td>31.243902</td>\n",
       "    </tr>\n",
       "  </tbody>\n",
       "</table>\n",
       "</div>"
      ],
      "text/plain": [
       "     XLID  SZGJFX      ZDID      ZDMC  SOURCE_LON  SOURCE_LAT\n",
       "37  10065       0  797D0001     东昌路渡口  121.499570   31.232475\n",
       "38  10065       0  7A7C0002  陆家嘴环路名商路  121.496410   31.237362\n",
       "39  10065       0  7B7C0008  陆家嘴环路丰和路  121.496742   31.241407\n",
       "40  10065       0  7B7E0017   银城路浦东南路  121.505110   31.243448\n",
       "41  10065       0  7B7F000E    银城路日照路  121.510583   31.243902"
      ]
     },
     "execution_count": 492,
     "metadata": {},
     "output_type": "execute_result"
    }
   ],
   "source": [
    "# 线路ID，公交方向，站点ID，站点名称，经度，纬度\n",
    "station_df = stationInfo_df.loc[stationInfo_df['XLID']==10065]\n",
    "station_df.head()"
   ]
  },
  {
   "cell_type": "code",
   "execution_count": 493,
   "metadata": {
    "collapsed": true
   },
   "outputs": [],
   "source": [
    "# 站点有序编码器（不是one-hot, 后面仍然进行一次one-hot编码）\n",
    "up_station = station_df.loc[station_df['SZGJFX']==0]['ZDID']\n",
    "down_station = station_df.loc[station_df['SZGJFX']==1]['ZDID']\n",
    "keys = list(up_station) + list(down_station)\n",
    "values = list(range(len(up_station)))+ list(range(100, 100+len(down_station)))\n",
    "station_dict = dict(zip(keys, values))"
   ]
  },
  {
   "cell_type": "code",
   "execution_count": 494,
   "metadata": {
    "collapsed": false
   },
   "outputs": [
    {
     "data": {
      "text/plain": [
       "['797D0001', '7A7C0002', '7B7C0008', '948B0001', '938A0000', '938B0010']"
      ]
     },
     "execution_count": 494,
     "metadata": {},
     "output_type": "execute_result"
    }
   ],
   "source": [
    "# 上下行前三站，用来过滤首站计算错误班车\n",
    "init_stations = list(up_station)[:3]+ list(down_station)[:3]\n",
    "init_stations"
   ]
  },
  {
   "cell_type": "markdown",
   "metadata": {},
   "source": [
    "#### 1.2 训练集测试集生成（添加辅助数据，数据清洗等）"
   ]
  },
  {
   "cell_type": "markdown",
   "metadata": {},
   "source": [
    "设备号码,线路编码,站点编码,协议编号,进出站状态,方向,车载上报时间"
   ]
  },
  {
   "cell_type": "code",
   "execution_count": 495,
   "metadata": {
    "collapsed": true
   },
   "outputs": [],
   "source": [
    "bus_rdd1 = sc.textFile('./bus10065_201501').map(lambda x: x.split(','))\n",
    "bus_rdd2 = sc.textFile('./bus10065_201502').map(lambda x: x.split(','))\n",
    "bus_rdd3 = sc.textFile('./bus10065_201503').map(lambda x: x.split(','))\n",
    "bus_rdd4 = sc.textFile('./bus10065_201504').map(lambda x: x.split(','))"
   ]
  },
  {
   "cell_type": "code",
   "execution_count": 496,
   "metadata": {
    "collapsed": false
   },
   "outputs": [
    {
     "data": {
      "text/plain": [
       "['059L0828', '10065', '918A0007', '42', '进站', '下行', '2015-01-14 17:01:14']"
      ]
     },
     "execution_count": 496,
     "metadata": {},
     "output_type": "execute_result"
    }
   ],
   "source": [
    "bus_rdd1 = bus_rdd1.union(bus_rdd2).union(bus_rdd3)\n",
    "bus_rdd2 = bus_rdd4\n",
    "bus_rdd1.first()"
   ]
  },
  {
   "cell_type": "code",
   "execution_count": 497,
   "metadata": {
    "collapsed": false
   },
   "outputs": [
    {
     "data": {
      "text/plain": [
       "['059L0809', '10065', '938A0000', '42', '进站', '下行', '2015-04-14 07:12:55']"
      ]
     },
     "execution_count": 497,
     "metadata": {},
     "output_type": "execute_result"
    }
   ],
   "source": [
    "bus_rdd2.first()"
   ]
  },
  {
   "cell_type": "code",
   "execution_count": 498,
   "metadata": {
    "collapsed": true
   },
   "outputs": [],
   "source": [
    "def getInitTime(values):\n",
    "    trip_values = []\n",
    "    init_time = time.mktime(time.strptime(values[0][6], TM_FORMAT)) # 进出站时间\n",
    "    init_station = values[0][2]\n",
    "    last_time = init_time\n",
    "    trip_values.append( values[0]+[init_time, init_time])\n",
    "    for value in values:\n",
    "        inout_time = time.mktime(time.strptime(value[6], TM_FORMAT)) # 进出站时间\n",
    "        interval = inout_time - last_time # 没想错的话一直大于零\n",
    "        if interval < 100: # 属于同一站台\n",
    "            continue\n",
    "        else:\n",
    "            if interval > 600:# 下一trip\n",
    "                init_time = inout_time\n",
    "                init_station = value[2]\n",
    "            last_time = time.mktime(time.strptime(value[6], TM_FORMAT))#及时更新last_time\n",
    "            if init_station in init_stations: # 如果“首站”在前三站里，就保留\n",
    "                value += [init_time, inout_time]\n",
    "                trip_values.append(value) # (可能会产生空的列表trip_values,后面要过滤一下)\n",
    "    return trip_values"
   ]
  },
  {
   "cell_type": "code",
   "execution_count": 499,
   "metadata": {
    "collapsed": true
   },
   "outputs": [],
   "source": [
    "def generate_dataset(bus_rdd):\n",
    "    bus_rdd = bus_rdd.map(lambda x: x+[x[6].split(' ')[0]])\n",
    "    bus_rdd = bus_rdd.sortBy(lambda x: (x[7], x[1], x[5], x[0], x[6])) # 按日期，路线，方向,车ID，时间等字段排序\n",
    "    # groupBy 日期，线路，方向，车ID\n",
    "    bus_init_and_onStation_time = bus_rdd.groupBy(lambda x: (x[7], x[1],x[5], x[0])).mapValues(list).mapValues(getInitTime)\n",
    "    bus_init_and_onStation_time = bus_init_and_onStation_time.map(lambda x: x[1]).flatMap(list)\n",
    "    bus_init_and_onStation_time = bus_init_and_onStation_time.filter(lambda x: len(x)>0).sortBy(lambda x: x[6])\n",
    "    return bus_init_and_onStation_time"
   ]
  },
  {
   "cell_type": "code",
   "execution_count": 500,
   "metadata": {
    "collapsed": true
   },
   "outputs": [],
   "source": [
    "# 生成带首站发车时间的原始训练集测试集（首站发车时间最重要，没有这无法建模）\n",
    "trainset = generate_dataset(bus_rdd1)\n",
    "testset = generate_dataset(bus_rdd2)"
   ]
  },
  {
   "cell_type": "markdown",
   "metadata": {},
   "source": [
    "---\n",
    "2. 特征工程\n",
    "---\n",
    "计算首站时间，添加GPS信息，时间戳改为相对时间戳等\n",
    "\n",
    "---"
   ]
  },
  {
   "cell_type": "markdown",
   "metadata": {},
   "source": [
    "(0) 时间特征--工作日与周末"
   ]
  },
  {
   "cell_type": "code",
   "execution_count": 501,
   "metadata": {
    "collapsed": true
   },
   "outputs": [],
   "source": [
    "def get_the_day_of_week(dt):\n",
    "    ts = time.mktime(time.strptime(dt, TM_FORMAT))\n",
    "    time_local = time.localtime(ts)\n",
    "    return int(time.strftime(\"%w\",time_local))"
   ]
  },
  {
   "cell_type": "code",
   "execution_count": 502,
   "metadata": {
    "collapsed": true
   },
   "outputs": [],
   "source": [
    "trainset  = trainset.map(lambda x: x+ [get_the_day_of_week(x[6])])\n",
    "testset  = testset.map(lambda x: x+ [get_the_day_of_week(x[6])])"
   ]
  },
  {
   "cell_type": "code",
   "execution_count": 503,
   "metadata": {
    "collapsed": false
   },
   "outputs": [
    {
     "data": {
      "text/plain": [
       "['059L3051',\n",
       " '10065',\n",
       " '797D0001',\n",
       " '43',\n",
       " '出站',\n",
       " '下行',\n",
       " '2014-12-31 23:56:01',\n",
       " '2014-12-31',\n",
       " 1420041361.0,\n",
       " 1420041361.0,\n",
       " 3]"
      ]
     },
     "execution_count": 503,
     "metadata": {},
     "output_type": "execute_result"
    }
   ],
   "source": [
    "trainset.first()"
   ]
  },
  {
   "cell_type": "markdown",
   "metadata": {},
   "source": [
    "(1) 添加GPS信息"
   ]
  },
  {
   "cell_type": "code",
   "execution_count": 504,
   "metadata": {
    "collapsed": true
   },
   "outputs": [],
   "source": [
    "# 添加GPS信息\n",
    "def add_gps_info(rdd_line):\n",
    "    station = rdd_line[2]\n",
    "    direction = 0 if rdd_line[5]=='上行' else 1\n",
    "    gps_info = station_df.loc[(station_df['ZDID']==station) & (station_df['SZGJFX']==direction)] #要用位运算bitwise\n",
    "    if len(gps_info) == 0:\n",
    "        return rdd_line + [None, None]\n",
    "    else:\n",
    "        lon = list(gps_info['SOURCE_LON'])[0]\n",
    "        lat = list(gps_info['SOURCE_LAT'])[0]\n",
    "        return rdd_line + [lon, lat]"
   ]
  },
  {
   "cell_type": "code",
   "execution_count": 505,
   "metadata": {
    "collapsed": true
   },
   "outputs": [],
   "source": [
    "# 添加GPS信息，找不到GPS信息的直接删掉（增加特征）\n",
    "trainset  = trainset.map(add_gps_info).filter(lambda x: (x[-1] is not None) & (x[-2] is not None)) # 去除没有GPS信息的\n",
    "testset  = testset.map(add_gps_info).filter(lambda x: (x[-1] is not None) & (x[-2] is not None))"
   ]
  },
  {
   "cell_type": "code",
   "execution_count": 506,
   "metadata": {
    "collapsed": false,
    "scrolled": false
   },
   "outputs": [
    {
     "data": {
      "text/plain": [
       "[['059L3051',\n",
       "  '10065',\n",
       "  '797D0001',\n",
       "  '43',\n",
       "  '出站',\n",
       "  '下行',\n",
       "  '2014-12-31 23:56:01',\n",
       "  '2014-12-31',\n",
       "  1420041361.0,\n",
       "  1420041361.0,\n",
       "  3,\n",
       "  121.49963200000001,\n",
       "  31.232220000000002]]"
      ]
     },
     "execution_count": 506,
     "metadata": {},
     "output_type": "execute_result"
    }
   ],
   "source": [
    "trainset.take(1)"
   ]
  },
  {
   "cell_type": "code",
   "execution_count": 507,
   "metadata": {
    "collapsed": false,
    "scrolled": true
   },
   "outputs": [
    {
     "data": {
      "text/plain": [
       "(334773, 123226)"
      ]
     },
     "execution_count": 507,
     "metadata": {},
     "output_type": "execute_result"
    }
   ],
   "source": [
    "trainset.count(), testset.count()"
   ]
  },
  {
   "cell_type": "markdown",
   "metadata": {},
   "source": [
    "(2) 数据集转成dataframe，因为要做one-hot，我只会这一种方法"
   ]
  },
  {
   "cell_type": "code",
   "execution_count": 508,
   "metadata": {
    "collapsed": false
   },
   "outputs": [],
   "source": [
    "# 训练集转换成dataframe\n",
    "cols = ['车ID', '线路ID','站台ID','协议','进出站','上下行','时间','日期','首站时间戳', '到站时间戳','周几',\\\n",
    "        '经度','纬度']\n",
    "train_df = pd.DataFrame(trainset.collect(), columns=cols)\n",
    "test_df = pd.DataFrame(testset.collect(), columns=cols)"
   ]
  },
  {
   "cell_type": "code",
   "execution_count": 509,
   "metadata": {
    "collapsed": false,
    "scrolled": false
   },
   "outputs": [
    {
     "data": {
      "text/html": [
       "<div>\n",
       "<table border=\"1\" class=\"dataframe\">\n",
       "  <thead>\n",
       "    <tr style=\"text-align: right;\">\n",
       "      <th></th>\n",
       "      <th>车ID</th>\n",
       "      <th>线路ID</th>\n",
       "      <th>站台ID</th>\n",
       "      <th>协议</th>\n",
       "      <th>进出站</th>\n",
       "      <th>上下行</th>\n",
       "      <th>时间</th>\n",
       "      <th>日期</th>\n",
       "      <th>首站时间戳</th>\n",
       "      <th>到站时间戳</th>\n",
       "      <th>周几</th>\n",
       "      <th>经度</th>\n",
       "      <th>纬度</th>\n",
       "    </tr>\n",
       "  </thead>\n",
       "  <tbody>\n",
       "    <tr>\n",
       "      <th>0</th>\n",
       "      <td>059L3051</td>\n",
       "      <td>10065</td>\n",
       "      <td>797D0001</td>\n",
       "      <td>43</td>\n",
       "      <td>出站</td>\n",
       "      <td>下行</td>\n",
       "      <td>2014-12-31 23:56:01</td>\n",
       "      <td>2014-12-31</td>\n",
       "      <td>1.420041e+09</td>\n",
       "      <td>1.420041e+09</td>\n",
       "      <td>3</td>\n",
       "      <td>121.499632</td>\n",
       "      <td>31.232220</td>\n",
       "    </tr>\n",
       "    <tr>\n",
       "      <th>1</th>\n",
       "      <td>059L3068</td>\n",
       "      <td>10065</td>\n",
       "      <td>7C82000D</td>\n",
       "      <td>42</td>\n",
       "      <td>进站</td>\n",
       "      <td>上行</td>\n",
       "      <td>2014-12-31 23:56:37</td>\n",
       "      <td>2014-12-31</td>\n",
       "      <td>1.420041e+09</td>\n",
       "      <td>1.420041e+09</td>\n",
       "      <td>3</td>\n",
       "      <td>121.527848</td>\n",
       "      <td>31.245802</td>\n",
       "    </tr>\n",
       "    <tr>\n",
       "      <th>2</th>\n",
       "      <td>059L2844</td>\n",
       "      <td>10065</td>\n",
       "      <td>868A0005</td>\n",
       "      <td>42</td>\n",
       "      <td>进站</td>\n",
       "      <td>上行</td>\n",
       "      <td>2014-12-31 23:56:39</td>\n",
       "      <td>2014-12-31</td>\n",
       "      <td>1.420041e+09</td>\n",
       "      <td>1.420041e+09</td>\n",
       "      <td>3</td>\n",
       "      <td>121.567517</td>\n",
       "      <td>31.292853</td>\n",
       "    </tr>\n",
       "  </tbody>\n",
       "</table>\n",
       "</div>"
      ],
      "text/plain": [
       "        车ID   线路ID      站台ID  协议 进出站 上下行                   时间          日期  \\\n",
       "0  059L3051  10065  797D0001  43  出站  下行  2014-12-31 23:56:01  2014-12-31   \n",
       "1  059L3068  10065  7C82000D  42  进站  上行  2014-12-31 23:56:37  2014-12-31   \n",
       "2  059L2844  10065  868A0005  42  进站  上行  2014-12-31 23:56:39  2014-12-31   \n",
       "\n",
       "          首站时间戳         到站时间戳  周几          经度         纬度  \n",
       "0  1.420041e+09  1.420041e+09   3  121.499632  31.232220  \n",
       "1  1.420041e+09  1.420041e+09   3  121.527848  31.245802  \n",
       "2  1.420041e+09  1.420041e+09   3  121.567517  31.292853  "
      ]
     },
     "execution_count": 509,
     "metadata": {},
     "output_type": "execute_result"
    }
   ],
   "source": [
    "train_df.head(3)"
   ]
  },
  {
   "cell_type": "code",
   "execution_count": 510,
   "metadata": {
    "collapsed": false
   },
   "outputs": [],
   "source": [
    "# 相对时间戳（今天第几秒，而不时从上个世纪算起），今天的平移时间戳\n",
    "# 减小数据，节约计算的资源开销（因为一班车肯定同一天）\n",
    "def interval_ts(ts): \n",
    "    time_local = time.localtime(ts)\n",
    "    dt = time.strftime(\"%Y-%m-%d %H:%M:%S\",time_local)\n",
    "    ts = ts - time.mktime(time.strptime(dt.split(' ')[0]+' 00:00:00', TM_FORMAT))\n",
    "    return ts\n",
    "# 其实计算相对时间戳，可以放在前面求发车时间那里，不过当时没想到求相对时间"
   ]
  },
  {
   "cell_type": "markdown",
   "metadata": {},
   "source": [
    "清洗训练集，测试集（站台ID有序编码和one-hot编码，只说做了one-hot就行，时间戳改为相对时间戳，其他标称属性均做了one-hot编码）"
   ]
  },
  {
   "cell_type": "code",
   "execution_count": 511,
   "metadata": {
    "collapsed": true
   },
   "outputs": [],
   "source": [
    "def clean_dataset(df):\n",
    "    new_df = df.copy()\n",
    "    station = new_df['站台ID']\n",
    "    station = list(map(lambda x : station_dict.get(x, 90), station)) # 找不到的站台都编码90号，别说出去\n",
    "    new_df.insert(loc=0, column='站台号', value=station)\n",
    "    init_ts = new_df['首站时间戳']\n",
    "    new_df.insert(loc=0, column='原始首站时间戳', value=init_ts)\n",
    "    new_df['首站时间戳'] = list(map(interval_ts, init_ts))\n",
    "    on_ts = new_df['到站时间戳']\n",
    "    new_df['到站时间戳'] = list(map(interval_ts, on_ts))\n",
    "    cols = ['站台号','站台ID','协议','上下行','原始首站时间戳','首站时间戳', '到站时间戳','周几', '经度','纬度']\n",
    "    new_df = pd.get_dummies(new_df.loc[:, cols])\n",
    "    return new_df"
   ]
  },
  {
   "cell_type": "code",
   "execution_count": 512,
   "metadata": {
    "collapsed": false,
    "scrolled": true
   },
   "outputs": [
    {
     "data": {
      "text/html": [
       "<div>\n",
       "<table border=\"1\" class=\"dataframe\">\n",
       "  <thead>\n",
       "    <tr style=\"text-align: right;\">\n",
       "      <th></th>\n",
       "      <th>站台号</th>\n",
       "      <th>原始首站时间戳</th>\n",
       "      <th>首站时间戳</th>\n",
       "      <th>到站时间戳</th>\n",
       "      <th>周几</th>\n",
       "      <th>经度</th>\n",
       "      <th>纬度</th>\n",
       "      <th>站台ID_797D0001</th>\n",
       "      <th>站台ID_7A7C0001</th>\n",
       "      <th>站台ID_7A7C0002</th>\n",
       "      <th>...</th>\n",
       "      <th>站台ID_928B0005</th>\n",
       "      <th>站台ID_938A0000</th>\n",
       "      <th>站台ID_938A0001</th>\n",
       "      <th>站台ID_938B000E</th>\n",
       "      <th>站台ID_938B0010</th>\n",
       "      <th>站台ID_948B0001</th>\n",
       "      <th>协议_42</th>\n",
       "      <th>协议_43</th>\n",
       "      <th>上下行_上行</th>\n",
       "      <th>上下行_下行</th>\n",
       "    </tr>\n",
       "  </thead>\n",
       "  <tbody>\n",
       "    <tr>\n",
       "      <th>0</th>\n",
       "      <td>128</td>\n",
       "      <td>1.420041e+09</td>\n",
       "      <td>86161.0</td>\n",
       "      <td>86161.0</td>\n",
       "      <td>3</td>\n",
       "      <td>121.499632</td>\n",
       "      <td>31.232220</td>\n",
       "      <td>1.0</td>\n",
       "      <td>0.0</td>\n",
       "      <td>0.0</td>\n",
       "      <td>...</td>\n",
       "      <td>0.0</td>\n",
       "      <td>0.0</td>\n",
       "      <td>0.0</td>\n",
       "      <td>0.0</td>\n",
       "      <td>0.0</td>\n",
       "      <td>0.0</td>\n",
       "      <td>0.0</td>\n",
       "      <td>1.0</td>\n",
       "      <td>0.0</td>\n",
       "      <td>1.0</td>\n",
       "    </tr>\n",
       "    <tr>\n",
       "      <th>1</th>\n",
       "      <td>6</td>\n",
       "      <td>1.420041e+09</td>\n",
       "      <td>86197.0</td>\n",
       "      <td>86197.0</td>\n",
       "      <td>3</td>\n",
       "      <td>121.527848</td>\n",
       "      <td>31.245802</td>\n",
       "      <td>0.0</td>\n",
       "      <td>0.0</td>\n",
       "      <td>0.0</td>\n",
       "      <td>...</td>\n",
       "      <td>0.0</td>\n",
       "      <td>0.0</td>\n",
       "      <td>0.0</td>\n",
       "      <td>0.0</td>\n",
       "      <td>0.0</td>\n",
       "      <td>0.0</td>\n",
       "      <td>1.0</td>\n",
       "      <td>0.0</td>\n",
       "      <td>1.0</td>\n",
       "      <td>0.0</td>\n",
       "    </tr>\n",
       "    <tr>\n",
       "      <th>2</th>\n",
       "      <td>15</td>\n",
       "      <td>1.420041e+09</td>\n",
       "      <td>86199.0</td>\n",
       "      <td>86199.0</td>\n",
       "      <td>3</td>\n",
       "      <td>121.567517</td>\n",
       "      <td>31.292853</td>\n",
       "      <td>0.0</td>\n",
       "      <td>0.0</td>\n",
       "      <td>0.0</td>\n",
       "      <td>...</td>\n",
       "      <td>0.0</td>\n",
       "      <td>0.0</td>\n",
       "      <td>0.0</td>\n",
       "      <td>0.0</td>\n",
       "      <td>0.0</td>\n",
       "      <td>0.0</td>\n",
       "      <td>1.0</td>\n",
       "      <td>0.0</td>\n",
       "      <td>1.0</td>\n",
       "      <td>0.0</td>\n",
       "    </tr>\n",
       "    <tr>\n",
       "      <th>3</th>\n",
       "      <td>113</td>\n",
       "      <td>1.420041e+09</td>\n",
       "      <td>86200.0</td>\n",
       "      <td>86200.0</td>\n",
       "      <td>3</td>\n",
       "      <td>121.567080</td>\n",
       "      <td>31.293138</td>\n",
       "      <td>0.0</td>\n",
       "      <td>0.0</td>\n",
       "      <td>0.0</td>\n",
       "      <td>...</td>\n",
       "      <td>0.0</td>\n",
       "      <td>0.0</td>\n",
       "      <td>0.0</td>\n",
       "      <td>0.0</td>\n",
       "      <td>0.0</td>\n",
       "      <td>0.0</td>\n",
       "      <td>1.0</td>\n",
       "      <td>0.0</td>\n",
       "      <td>0.0</td>\n",
       "      <td>1.0</td>\n",
       "    </tr>\n",
       "    <tr>\n",
       "      <th>4</th>\n",
       "      <td>116</td>\n",
       "      <td>1.420042e+09</td>\n",
       "      <td>17.0</td>\n",
       "      <td>17.0</td>\n",
       "      <td>4</td>\n",
       "      <td>121.571715</td>\n",
       "      <td>31.274733</td>\n",
       "      <td>0.0</td>\n",
       "      <td>0.0</td>\n",
       "      <td>0.0</td>\n",
       "      <td>...</td>\n",
       "      <td>0.0</td>\n",
       "      <td>0.0</td>\n",
       "      <td>0.0</td>\n",
       "      <td>0.0</td>\n",
       "      <td>0.0</td>\n",
       "      <td>0.0</td>\n",
       "      <td>1.0</td>\n",
       "      <td>0.0</td>\n",
       "      <td>0.0</td>\n",
       "      <td>1.0</td>\n",
       "    </tr>\n",
       "  </tbody>\n",
       "</table>\n",
       "<p>5 rows × 67 columns</p>\n",
       "</div>"
      ],
      "text/plain": [
       "   站台号       原始首站时间戳    首站时间戳    到站时间戳  周几          经度         纬度  \\\n",
       "0  128  1.420041e+09  86161.0  86161.0   3  121.499632  31.232220   \n",
       "1    6  1.420041e+09  86197.0  86197.0   3  121.527848  31.245802   \n",
       "2   15  1.420041e+09  86199.0  86199.0   3  121.567517  31.292853   \n",
       "3  113  1.420041e+09  86200.0  86200.0   3  121.567080  31.293138   \n",
       "4  116  1.420042e+09     17.0     17.0   4  121.571715  31.274733   \n",
       "\n",
       "   站台ID_797D0001  站台ID_7A7C0001  站台ID_7A7C0002   ...    站台ID_928B0005  \\\n",
       "0            1.0            0.0            0.0   ...              0.0   \n",
       "1            0.0            0.0            0.0   ...              0.0   \n",
       "2            0.0            0.0            0.0   ...              0.0   \n",
       "3            0.0            0.0            0.0   ...              0.0   \n",
       "4            0.0            0.0            0.0   ...              0.0   \n",
       "\n",
       "   站台ID_938A0000  站台ID_938A0001  站台ID_938B000E  站台ID_938B0010  站台ID_948B0001  \\\n",
       "0            0.0            0.0            0.0            0.0            0.0   \n",
       "1            0.0            0.0            0.0            0.0            0.0   \n",
       "2            0.0            0.0            0.0            0.0            0.0   \n",
       "3            0.0            0.0            0.0            0.0            0.0   \n",
       "4            0.0            0.0            0.0            0.0            0.0   \n",
       "\n",
       "   协议_42  协议_43  上下行_上行  上下行_下行  \n",
       "0    0.0    1.0     0.0     1.0  \n",
       "1    1.0    0.0     1.0     0.0  \n",
       "2    1.0    0.0     1.0     0.0  \n",
       "3    1.0    0.0     0.0     1.0  \n",
       "4    1.0    0.0     0.0     1.0  \n",
       "\n",
       "[5 rows x 67 columns]"
      ]
     },
     "execution_count": 512,
     "metadata": {},
     "output_type": "execute_result"
    }
   ],
   "source": [
    "new_train_df = clean_dataset(train_df)\n",
    "new_test_df = clean_dataset(test_df)\n",
    "new_train_df.head()"
   ]
  },
  {
   "cell_type": "markdown",
   "metadata": {},
   "source": [
    "---\n",
    "3. 模型\n",
    "---\n",
    "LR，Ridge/RidgeCV, Lasso, ElasticNet, xgboost\n",
    "\n",
    "---"
   ]
  },
  {
   "cell_type": "code",
   "execution_count": 513,
   "metadata": {
    "collapsed": true
   },
   "outputs": [],
   "source": [
    "from sklearn.linear_model import LinearRegression\n",
    "from sklearn.linear_model import Ridge, RidgeCV, ElasticNet, LassoCV, LassoLarsCV, LinearRegression, ElasticNetCV\n",
    "from sklearn.model_selection import cross_val_score\n",
    "import xgboost as xgb\n",
    "import matplotlib.pyplot as plt"
   ]
  },
  {
   "cell_type": "code",
   "execution_count": 514,
   "metadata": {
    "collapsed": false
   },
   "outputs": [],
   "source": [
    "label = '到站时间戳'\n",
    "cols = list(new_train_df.columns)\n",
    "cols.remove(label)\n",
    "cols.remove('原始首站时间戳') # 原始首站时间戳,是为了做伪实时预测，保留的\n",
    "X_train = np.mat(new_train_df.loc[:,cols])\n",
    "y_train = list(new_train_df[label])\n",
    "X_test = np.mat(new_test_df.loc[:,cols])\n",
    "y_test = list(new_test_df[label])"
   ]
  },
  {
   "cell_type": "markdown",
   "metadata": {},
   "source": [
    "### 3.1 模型交叉验证误差（为了选择合适的alpha值）"
   ]
  },
  {
   "cell_type": "code",
   "execution_count": 515,
   "metadata": {
    "collapsed": true
   },
   "outputs": [],
   "source": [
    "def rmse_cv(model):\n",
    "    rmse= np.sqrt(-cross_val_score(model, X_train, y_train, scoring=\"neg_mean_squared_error\", cv = 5))\n",
    "    return(rmse)"
   ]
  },
  {
   "cell_type": "code",
   "execution_count": 517,
   "metadata": {
    "collapsed": false
   },
   "outputs": [
    {
     "data": {
      "text/plain": [
       "[480.72119321386197,\n",
       " 481.45273683452763,\n",
       " 481.8204534865223,\n",
       " 482.04156712207077,\n",
       " 482.08367494933373,\n",
       " 482.11523644313877,\n",
       " 482.16498898653765,\n",
       " 482.17711501376027,\n",
       " 482.19664965473385]"
      ]
     },
     "execution_count": 517,
     "metadata": {},
     "output_type": "execute_result"
    }
   ],
   "source": [
    "model_ridge = Ridge()\n",
    "alphas = [0.05, 0.1, 0.2, 0.5, 0.7, 1, 3, 5, 10]\n",
    "cv_ridge = [rmse_cv(Ridge(alpha = alpha)).mean() for alpha in alphas]\n",
    "cv_ridge"
   ]
  },
  {
   "cell_type": "code",
   "execution_count": 521,
   "metadata": {
    "collapsed": false,
    "scrolled": true
   },
   "outputs": [
    {
     "data": {
      "image/png": "[encoded data removed]",
      "text/plain": [
       "<matplotlib.figure.Figure at 0x7fd62d8c2940>"
      ]
     },
     "metadata": {},
     "output_type": "display_data"
    }
   ],
   "source": [
    "cv_ridge = pd.Series(cv_ridge, index = alphas)\n",
    "cv_ridge.plot(title = \"Validation\")\n",
    "plt.xlabel(\"alpha\")\n",
    "plt.ylabel(\"rmse\")\n",
    "plt.ylim([480,483])\n",
    "plt.savefig('./cv_ridge.png', dpi=400, bbox_inche='tight')\n",
    "plt.show()"
   ]
  },
  {
   "cell_type": "markdown",
   "metadata": {},
   "source": [
    "所以alpha就取0.1就行"
   ]
  },
  {
   "cell_type": "code",
   "execution_count": 362,
   "metadata": {
    "collapsed": false,
    "scrolled": true
   },
   "outputs": [
    {
     "data": {
      "text/plain": [
       "490.21056466584525"
      ]
     },
     "execution_count": 362,
     "metadata": {},
     "output_type": "execute_result"
    }
   ],
   "source": [
    "cv_ridge.min()"
   ]
  },
  {
   "cell_type": "markdown",
   "metadata": {},
   "source": [
    "所以alpha应该选一个很小的值，从上图中"
   ]
  },
  {
   "cell_type": "markdown",
   "metadata": {},
   "source": [
    "(1) Ridge"
   ]
  },
  {
   "cell_type": "code",
   "execution_count": 523,
   "metadata": {
    "collapsed": false,
    "scrolled": true
   },
   "outputs": [
    {
     "data": {
      "text/plain": [
       "481.45273683452763"
      ]
     },
     "execution_count": 523,
     "metadata": {},
     "output_type": "execute_result"
    }
   ],
   "source": [
    "# Ridge\n",
    "model_ridge = Ridge(alpha=0.1).fit(X_train, y_train)\n",
    "rmse_ridge = rmse_cv(model_ridge).mean()\n",
    "rmse_ridge"
   ]
  },
  {
   "cell_type": "markdown",
   "metadata": {},
   "source": [
    "(2) Linear regression"
   ]
  },
  {
   "cell_type": "code",
   "execution_count": 526,
   "metadata": {
    "collapsed": false
   },
   "outputs": [
    {
     "data": {
      "text/plain": [
       "336.75613082111721"
      ]
     },
     "execution_count": 526,
     "metadata": {},
     "output_type": "execute_result"
    }
   ],
   "source": [
    "# Linear regression\n",
    "model_LinearRegr = LinearRegression()\n",
    "model_LinearRegr.fit(X_train, y_train)\n",
    "rmse_LinearRegr = rmse_cv(model_LinearRegr).mean()\n",
    "rmse_LinearRegr"
   ]
  },
  {
   "cell_type": "markdown",
   "metadata": {},
   "source": [
    "(3) RidgeCV"
   ]
  },
  {
   "cell_type": "code",
   "execution_count": 527,
   "metadata": {
    "collapsed": false
   },
   "outputs": [
    {
     "data": {
      "text/plain": [
       "17401.27653889811"
      ]
     },
     "execution_count": 527,
     "metadata": {},
     "output_type": "execute_result"
    }
   ],
   "source": [
    "# RidgeCV （带CV都是自己内部设置一组alpha，自己找到最优的alpha）\n",
    "model_RidgeCV = RidgeCV()\n",
    "model_RidgeCV.fit(X_train, y_train)\n",
    "rmse_RidgeCV = rmse_cv(model_RidgeCV).mean()\n",
    "rmse_RidgeCV"
   ]
  },
  {
   "cell_type": "markdown",
   "metadata": {},
   "source": [
    "(4) ElasticNetCV"
   ]
  },
  {
   "cell_type": "code",
   "execution_count": 528,
   "metadata": {
    "collapsed": false
   },
   "outputs": [
    {
     "data": {
      "text/plain": [
       "970.48181079012886"
      ]
     },
     "execution_count": 528,
     "metadata": {},
     "output_type": "execute_result"
    }
   ],
   "source": [
    "# ElasticNetCV \n",
    "model_EN = ElasticNetCV()\n",
    "model_EN.fit(X_train, y_train)\n",
    "rmse_EN = rmse_cv(model_EN).mean()\n",
    "rmse_EN"
   ]
  },
  {
   "cell_type": "markdown",
   "metadata": {},
   "source": [
    "(5) LassoCV"
   ]
  },
  {
   "cell_type": "code",
   "execution_count": 529,
   "metadata": {
    "collapsed": false
   },
   "outputs": [
    {
     "data": {
      "text/plain": [
       "969.95849828919359"
      ]
     },
     "execution_count": 529,
     "metadata": {},
     "output_type": "execute_result"
    }
   ],
   "source": [
    "# LassoCV \n",
    "model_LassoCV= LassoCV()\n",
    "model_LassoCV.fit(X_train, y_train)\n",
    "rmse_LassoCV = rmse_cv(model_LassoCV).mean()\n",
    "rmse_LassoCV"
   ]
  },
  {
   "cell_type": "markdown",
   "metadata": {},
   "source": [
    "(7) xgboost"
   ]
  },
  {
   "cell_type": "code",
   "execution_count": 530,
   "metadata": {
    "collapsed": true
   },
   "outputs": [],
   "source": [
    "# xgboost\n",
    "dtrain = xgb.DMatrix(X_train, label = y_train)\n",
    "dtest = xgb.DMatrix(X_test)\n",
    "params = {\"max_depth\":2, \"eta\":0.1}\n",
    "model = xgb.cv(params, dtrain,  num_boost_round=500, early_stopping_rounds=100)"
   ]
  },
  {
   "cell_type": "code",
   "execution_count": 531,
   "metadata": {
    "collapsed": false
   },
   "outputs": [
    {
     "data": {
      "text/plain": [
       "365.77361066666668"
      ]
     },
     "execution_count": 531,
     "metadata": {},
     "output_type": "execute_result"
    }
   ],
   "source": [
    "rmse_xgb = model.values[-1,0]\n",
    "rmse_xgb"
   ]
  },
  {
   "cell_type": "markdown",
   "metadata": {},
   "source": [
    "(8) 图形化对比交叉验证结果"
   ]
  },
  {
   "cell_type": "code",
   "execution_count": 533,
   "metadata": {
    "collapsed": false,
    "scrolled": true
   },
   "outputs": [
    {
     "data": {
      "image/png": "[encoded data removed]",
      "text/plain": [
       "<matplotlib.figure.Figure at 0x7fd63489ccf8>"
      ]
     },
     "metadata": {},
     "output_type": "display_data"
    }
   ],
   "source": [
    "rmse_dict = {'data':[rmse_ridge, rmse_LinearRegr, rmse_EN, rmse_LassoCV, rmse_xgb]}\n",
    "rmse_df = pd.DataFrame(data = rmse_dict, index = ['Ridge','Linear regression','ElasticNetCV','LassoCV','xgboost'])\n",
    "rmse_df.plot.bar(legend = False, title = 'RMSE')\n",
    "plt.savefig('./cv_rmse.png', dpi=400, bbox_inche='tight')\n",
    "plt.show()"
   ]
  },
  {
   "cell_type": "markdown",
   "metadata": {},
   "source": [
    "### 3.2 预测，评价（模型自带R^2，也求了RMSE）"
   ]
  },
  {
   "cell_type": "code",
   "execution_count": 534,
   "metadata": {
    "collapsed": true
   },
   "outputs": [],
   "source": [
    "# 均方误差\n",
    "def rmse(y_pred, y_true):\n",
    "    y_pred = np.array(y_pred)\n",
    "    y_true = np.array(y_true)\n",
    "    return np.sqrt(np.mean((y_true - y_pred) ** 2))"
   ]
  },
  {
   "cell_type": "code",
   "execution_count": 535,
   "metadata": {
    "collapsed": true
   },
   "outputs": [],
   "source": [
    "def mae(y_pred, y_true):\n",
    "    y_pred = np.array(y_pred)\n",
    "    y_true = np.array(y_true)\n",
    "    return np.mean(np.abs(y_pred - y_true))"
   ]
  },
  {
   "cell_type": "markdown",
   "metadata": {},
   "source": [
    "(1) LinearRegression"
   ]
  },
  {
   "cell_type": "code",
   "execution_count": 536,
   "metadata": {
    "collapsed": false
   },
   "outputs": [
    {
     "data": {
      "text/plain": [
       "(array([ -9.92829478e+01,   9.99265368e-01,   1.24198067e+00,\n",
       "          5.21063800e+05,  -1.00341160e+07,  -5.56641904e+05,\n",
       "         -4.89926174e+05,  -5.21049936e+05,  -4.59304311e+05,\n",
       "         -4.80461072e+05,  -4.44843332e+05,  -4.63933616e+05,\n",
       "         -4.44471002e+05,  -4.53964784e+05,  -4.61996289e+05,\n",
       "         -4.65691014e+05,  -4.37160769e+05,  -4.51529970e+05,\n",
       "         -4.26284200e+05,  -4.38220176e+05,  -4.13328318e+05,\n",
       "         -4.16450931e+05,  -3.43214382e+05,  -3.37435024e+05,\n",
       "         -2.52478594e+05,  -2.44872684e+05,  -1.72757138e+05,\n",
       "         -2.05604062e+05,  -2.17469140e+05,  -1.75014030e+05,\n",
       "         -9.99032240e+04,  -1.15011724e+05,  -7.28363899e+04,\n",
       "         -5.95357082e+04,   1.37541918e+04,   1.97254566e+03,\n",
       "          1.06338399e+05,   9.01157593e+04,   1.59998985e+05,\n",
       "          1.60642664e+05,   2.56733314e+05,   2.49405835e+05,\n",
       "          3.08146738e+05,   3.09648440e+05,   3.54727350e+05,\n",
       "          3.43047452e+05,   4.12836639e+05,   4.06490660e+05,\n",
       "          4.47870709e+05,   4.47915638e+05,   4.94308091e+05,\n",
       "          4.90867600e+05,   5.44621714e+05,   5.44122953e+05,\n",
       "          5.21241156e+05,   5.14001795e+05,   5.82900395e+05,\n",
       "          5.79050612e+05,   5.78109757e+05,   5.80181095e+05,\n",
       "          6.22339411e+05,   1.26780276e+03,  -1.26780275e+03,\n",
       "         -1.05834508e+02,   1.05834509e+02]), 250652059.44166604)"
      ]
     },
     "execution_count": 536,
     "metadata": {},
     "output_type": "execute_result"
    }
   ],
   "source": [
    "lr_model = LinearRegression()\n",
    "lr_model.fit(X_train, y_train)\n",
    "# 训练后的参数 w 和 b\n",
    "lr_model.coef_, lr_model.intercept_"
   ]
  },
  {
   "cell_type": "code",
   "execution_count": 544,
   "metadata": {
    "collapsed": false
   },
   "outputs": [
    {
     "data": {
      "text/plain": [
       "(178.82401305468818, 335.91023609841181)"
      ]
     },
     "execution_count": 544,
     "metadata": {},
     "output_type": "execute_result"
    }
   ],
   "source": [
    "lr_model.score(X_test, y_test) # R^2 分数\n",
    "y_pred_lr = lr_model.predict(X_test)\n",
    "mae_lr = mae(y_pred_lr, y_test)\n",
    "rmse_lr = rmse(y_pred_lr, y_test)\n",
    "mae_lr, rmse_lr"
   ]
  },
  {
   "cell_type": "code",
   "execution_count": 538,
   "metadata": {
    "collapsed": false,
    "scrolled": true
   },
   "outputs": [
    {
     "data": {
      "text/plain": [
       "(array([ 88804.36114895,  17798.92071688,  16323.32528269,  16759.92556378,\n",
       "         16977.93043685,  16938.47764978,  17093.36200929,  17033.26990423,\n",
       "         17237.0858171 ,  17185.31025517]),\n",
       " [85882.0,\n",
       "  16154.0,\n",
       "  16246.0,\n",
       "  16608.0,\n",
       "  16727.0,\n",
       "  16873.0,\n",
       "  16888.0,\n",
       "  16981.0,\n",
       "  16999.0,\n",
       "  17112.0])"
      ]
     },
     "execution_count": 538,
     "metadata": {},
     "output_type": "execute_result"
    }
   ],
   "source": [
    "y_pred_lr[:10], y_test[:10]"
   ]
  },
  {
   "cell_type": "markdown",
   "metadata": {},
   "source": [
    "(2) Ridge(不要ridgeCV）"
   ]
  },
  {
   "cell_type": "code",
   "execution_count": 550,
   "metadata": {
    "collapsed": false
   },
   "outputs": [
    {
     "data": {
      "text/plain": [
       "(253.48645365314138, 485.96303844415075)"
      ]
     },
     "execution_count": 550,
     "metadata": {},
     "output_type": "execute_result"
    }
   ],
   "source": [
    "y_pred = model_ridge.predict(X_test)\n",
    "mae_ridge = mae(y_pred, y_test)\n",
    "rmse_ridge = rmse(y_pred, y_test)\n",
    "mae_ridge, rmse_ridge"
   ]
  },
  {
   "cell_type": "markdown",
   "metadata": {},
   "source": [
    "(3) EN"
   ]
  },
  {
   "cell_type": "code",
   "execution_count": 546,
   "metadata": {
    "collapsed": false
   },
   "outputs": [
    {
     "data": {
      "text/plain": [
       "(836.36831837362945, 985.90193037938764)"
      ]
     },
     "execution_count": 546,
     "metadata": {},
     "output_type": "execute_result"
    }
   ],
   "source": [
    "y_pred = model_EN.predict(X_test)\n",
    "mae_en = mae(y_pred, y_test)\n",
    "rmse_en = rmse(y_pred, y_test)\n",
    "mae_en, rmse_en"
   ]
  },
  {
   "cell_type": "markdown",
   "metadata": {},
   "source": [
    "(4) LassoCV"
   ]
  },
  {
   "cell_type": "code",
   "execution_count": 547,
   "metadata": {
    "collapsed": false
   },
   "outputs": [
    {
     "data": {
      "text/plain": [
       "(836.17454222136314, 985.55328721703552)"
      ]
     },
     "execution_count": 547,
     "metadata": {},
     "output_type": "execute_result"
    }
   ],
   "source": [
    "y_pred = model_LassoCV.predict(X_test)\n",
    "mae_lasso = mae(y_pred, y_test)\n",
    "rmse_lasso = rmse(y_pred, y_test)\n",
    "mae_lasso, rmse_lasso"
   ]
  },
  {
   "cell_type": "markdown",
   "metadata": {},
   "source": [
    "(5) xgboost"
   ]
  },
  {
   "cell_type": "code",
   "execution_count": 567,
   "metadata": {
    "collapsed": false,
    "scrolled": true
   },
   "outputs": [
    {
     "name": "stdout",
     "output_type": "stream",
     "text": [
      "193.938207697 327.60051382\n",
      "174.44704327 308.687967001\n",
      "166.418260571 301.043844371\n",
      "162.371480569 297.768467631\n",
      "158.69661035 296.214644493\n",
      "155.875251511 295.461131608\n",
      "155.994107453 298.280837299\n"
     ]
    }
   ],
   "source": [
    "for depth in [4,5,6,7,8,9,10]:\n",
    "    xgb_model = xgb.XGBRegressor(max_depth=depth) # 树深为6\n",
    "    xgb_model.fit(X_train, y_train)\n",
    "    xgb_model.score(X_test, y_test)\n",
    "    y_pred_xgb = xgb_model.predict(X_test)\n",
    "    mae_xgb = mae(y_pred_xgb, y_test)\n",
    "    rmse_xgb = rmse(y_pred_xgb, y_test)\n",
    "    print(mae_xgb, rmse_xgb)"
   ]
  },
  {
   "cell_type": "markdown",
   "metadata": {},
   "source": [
    "树深为9时，mae和rmse都打到最小，所以max_depth=9"
   ]
  },
  {
   "cell_type": "code",
   "execution_count": 568,
   "metadata": {
    "collapsed": false,
    "scrolled": true
   },
   "outputs": [
    {
     "data": {
      "text/plain": [
       "(155.87525151070116, 295.46113160806681)"
      ]
     },
     "execution_count": 568,
     "metadata": {},
     "output_type": "execute_result"
    }
   ],
   "source": [
    "xgb_model = xgb.XGBRegressor(max_depth=9) # 树深为9\n",
    "xgb_model.fit(X_train, y_train)\n",
    "xgb_model.score(X_test, y_test)\n",
    "y_pred_xgb = xgb_model.predict(X_test)\n",
    "mae_xgb = mae(y_pred_xgb, y_test)\n",
    "rmse_xgb = rmse(y_pred_xgb, y_test)\n",
    "mae_xgb, rmse_xgb"
   ]
  },
  {
   "cell_type": "markdown",
   "metadata": {},
   "source": [
    "(6) 最后，看看预测值和真实值"
   ]
  },
  {
   "cell_type": "code",
   "execution_count": 378,
   "metadata": {
    "collapsed": false,
    "scrolled": true
   },
   "outputs": [
    {
     "data": {
      "text/plain": [
       "(array([ 85955.5234375 ,   7336.04589844,   7484.80078125,   7552.39453125,\n",
       "          7640.89746094,   7721.90136719,   7892.82470703,   8331.98730469,\n",
       "          8926.73046875,   8972.58203125], dtype=float32),\n",
       " [86024.0,\n",
       "  7230.0,\n",
       "  7603.0,\n",
       "  7708.0,\n",
       "  7879.0,\n",
       "  7982.0,\n",
       "  8258.0,\n",
       "  8440.0,\n",
       "  8571.0,\n",
       "  8690.0])"
      ]
     },
     "execution_count": 378,
     "metadata": {},
     "output_type": "execute_result"
    }
   ],
   "source": [
    "# 看看这预测还是很准确的\n",
    "y_pred_xgb[:10],y_test[:10]"
   ]
  },
  {
   "cell_type": "code",
   "execution_count": 565,
   "metadata": {
    "collapsed": false
   },
   "outputs": [
    {
     "data": {
      "image/png": "[encoded data removed]",
      "text/plain": [
       "<matplotlib.figure.Figure at 0x7fd5eabd45f8>"
      ]
     },
     "metadata": {},
     "output_type": "display_data"
    }
   ],
   "source": [
    "rmse_dict = {'data':[mae_lr, mae_ridge, mae_lasso, mae_en, mae_xgb]}\n",
    "rmse_df = pd.DataFrame(data = rmse_dict, index = ['Linear Reg','Ridge','Lasso','ElasticNet','xgboost'])\n",
    "rmse_df.plot.bar(legend = False, title = 'MAE')\n",
    "plt.savefig('./mae.png', dpi=400, bbox_inche='tight')\n",
    "plt.show()"
   ]
  },
  {
   "cell_type": "code",
   "execution_count": 566,
   "metadata": {
    "collapsed": false,
    "scrolled": false
   },
   "outputs": [
    {
     "data": {
      "image/png": "[encoded data removed]",
      "text/plain": [
       "<matplotlib.figure.Figure at 0x7fd5e9f999b0>"
      ]
     },
     "metadata": {},
     "output_type": "display_data"
    }
   ],
   "source": [
    "rmse_dict = {'data':[rmse_lr, rmse_ridge, rmse_lasso, rmse_en, rmse_xgb]}\n",
    "rmse_df = pd.DataFrame(data = rmse_dict, index = ['Linear Reg','ElasticNet','Ridge','Lasso','xgboost'])\n",
    "rmse_df.plot.bar(legend = False, title = 'RMSE')\n",
    "plt.savefig('./rmse.png', dpi=400, bbox_inche='tight')\n",
    "plt.show()"
   ]
  },
  {
   "cell_type": "markdown",
   "metadata": {},
   "source": [
    "---\n",
    "4. 伪实时预测接口\n",
    "---\n",
    "输入公交线路，上下行方向，上车站点，即可输出即将到站时间\n",
    "\n",
    "---"
   ]
  },
  {
   "cell_type": "code",
   "execution_count": 428,
   "metadata": {
    "collapsed": false,
    "scrolled": true
   },
   "outputs": [
    {
     "data": {
      "text/plain": [
       "['站台号',\n",
       " '原始首站时间戳',\n",
       " '首站时间戳',\n",
       " '到站时间戳',\n",
       " '经度',\n",
       " '纬度',\n",
       " '站台ID_797D0001',\n",
       " '站台ID_7A7C0001',\n",
       " '站台ID_7A7C0002',\n",
       " '站台ID_7B7C0004',\n",
       " '站台ID_7B7C0008',\n",
       " '站台ID_7B7E0015',\n",
       " '站台ID_7B7E0017',\n",
       " '站台ID_7B7E0018',\n",
       " '站台ID_7B7F000D',\n",
       " '站台ID_7B7F000E',\n",
       " '站台ID_7B800015',\n",
       " '站台ID_7C82000B',\n",
       " '站台ID_7C82000D',\n",
       " '站台ID_7C830010',\n",
       " '站台ID_7C830012',\n",
       " '站台ID_7C840013',\n",
       " '站台ID_7D84000C',\n",
       " '站台ID_7E860000',\n",
       " '站台ID_7F870000',\n",
       " '站台ID_81890001',\n",
       " '站台ID_8189000E',\n",
       " '站台ID_828A0000',\n",
       " '站台ID_828A0001',\n",
       " '站台ID_828A0002',\n",
       " '站台ID_828B0002',\n",
       " '站台ID_848B0000',\n",
       " '站台ID_848B0001',\n",
       " '站台ID_858A0000',\n",
       " '站台ID_858A0001',\n",
       " '站台ID_868A0000',\n",
       " '站台ID_868A0005',\n",
       " '站台ID_88890000',\n",
       " '站台ID_88890001',\n",
       " '站台ID_8A890000',\n",
       " '站台ID_8A890001',\n",
       " '站台ID_8C890000',\n",
       " '站台ID_8C890001',\n",
       " '站台ID_8D890000',\n",
       " '站台ID_8D890001',\n",
       " '站台ID_8E890000',\n",
       " '站台ID_8E890001',\n",
       " '站台ID_8F890000',\n",
       " '站台ID_8F890001',\n",
       " '站台ID_908A0000',\n",
       " '站台ID_908A0001',\n",
       " '站台ID_918A0006',\n",
       " '站台ID_918A0007',\n",
       " '站台ID_928B0000',\n",
       " '站台ID_928B0001',\n",
       " '站台ID_928B0003',\n",
       " '站台ID_928B0005',\n",
       " '站台ID_938A0000',\n",
       " '站台ID_938A0001',\n",
       " '站台ID_938B000E',\n",
       " '站台ID_938B0010',\n",
       " '站台ID_948B0001',\n",
       " '协议_42',\n",
       " '协议_43',\n",
       " '上下行_上行',\n",
       " '上下行_下行']"
      ]
     },
     "execution_count": 428,
     "metadata": {},
     "output_type": "execute_result"
    }
   ],
   "source": [
    "columns = list(new_train_df.columns)\n",
    "columns"
   ]
  },
  {
   "cell_type": "code",
   "execution_count": 450,
   "metadata": {
    "collapsed": true
   },
   "outputs": [],
   "source": [
    "import time,datetime\n",
    "def arrival_time(busline,direction,aboard_station, aboard_time):\n",
    "    if busline != '10065':\n",
    "        print(\"对不起，该线路未建模\")\n",
    "        return\n",
    "    now = time.time()\n",
    "    interval = interval_ts(now)\n",
    "    if not aboard_time:\n",
    "        time_local = time.localtime(now)\n",
    "        dt = time.strftime(TM_FORMAT, time_local)\n",
    "        begin_dt = '2015-02-%s 00:00:00' % dt.split(' ')[0].split('-')[-1]\n",
    "        end_ts = time.mktime(time.strptime(begin_dt, TM_FORMAT)) + interval_ts(now)\n",
    "        begin_ts = end_ts - 60*70 # 我也不知道，一班车最长跑多久，先定70分钟吧\n",
    "    recall_df = new_test_df.copy()    \n",
    "    recall_df = recall_df.loc[(recall_df['原始首站时间戳']>begin_ts) & (recall_df['原始首站时间戳']<end_ts)]\n",
    "    SZGJFX = 0 if direction=='上行' else 1\n",
    "    bus_info = station_df.loc[(station_df['SZGJFX']==SZGJFX) & (station_df['ZDMC']==aboard_station)]\n",
    "    if len(bus_info)==0:\n",
    "        print(\"输入乘车站台信息有误\")\n",
    "        return\n",
    "    station = list(bus_info['ZDID'])[0]\n",
    "    recall_df = recall_df.loc[(recall_df['站台ID_'+station]==1.0) & (recall_df['上下行_'+direction]==1.0)]\n",
    "    label = '到站时间戳'\n",
    "    cols = columns.copy()\n",
    "    cols.remove(label)\n",
    "    cols.remove('原始首站时间戳') # 原始首站时间戳,是为了做伪实时预测，保留的\n",
    "    X = np.mat(recall_df.loc[:,cols])\n",
    "    y = list(recall_df[label])\n",
    "    \n",
    "    nearest_car_time = min(filter(lambda x: x> interval, y))\n",
    "    nearest_car = y.index(nearest_car_time)\n",
    "    real_on_time = list(recall_df.iloc[nearest_car]['到站时间戳'] )[0]\n",
    "    time_local = time.localtime(nearest_car_time - interval)\n",
    "    print(\"the bus of %s will arrival at %s hour %s min %s sec later\" \\\n",
    "          %(busline,time_local.tm_hour-8, time_local.tm_min, time_local.tm_sec))\n",
    "    print(\"its real arriving time is %s\"% real_on_time)"
   ]
  },
  {
   "cell_type": "code",
   "execution_count": 451,
   "metadata": {
    "collapsed": false,
    "scrolled": true
   },
   "outputs": [
    {
     "ename": "TypeError",
     "evalue": "'numpy.float64' object is not iterable",
     "output_type": "error",
     "traceback": [
      "\u001b[0;31m---------------------------------------------------------------------------\u001b[0m",
      "\u001b[0;31mTypeError\u001b[0m                                 Traceback (most recent call last)",
      "\u001b[0;32m<ipython-input-451-69e020692d52>\u001b[0m in \u001b[0;36m<module>\u001b[0;34m()\u001b[0m\n\u001b[0;32m----> 1\u001b[0;31m \u001b[0marrival_time\u001b[0m\u001b[0;34m(\u001b[0m\u001b[0;34m'10065'\u001b[0m\u001b[0;34m,\u001b[0m\u001b[0;34m'上行'\u001b[0m\u001b[0;34m,\u001b[0m \u001b[0;34m'银城路浦东南路'\u001b[0m\u001b[0;34m,\u001b[0m \u001b[0;32mNone\u001b[0m \u001b[0;34m)\u001b[0m\u001b[0;34m\u001b[0m\u001b[0m\n\u001b[0m",
      "\u001b[0;32m<ipython-input-450-3f5e60f8b68f>\u001b[0m in \u001b[0;36marrival_time\u001b[0;34m(busline, direction, aboard_station, aboard_time)\u001b[0m\n\u001b[1;32m     30\u001b[0m     \u001b[0mnearest_car_time\u001b[0m \u001b[0;34m=\u001b[0m \u001b[0mmin\u001b[0m\u001b[0;34m(\u001b[0m\u001b[0mfilter\u001b[0m\u001b[0;34m(\u001b[0m\u001b[0;32mlambda\u001b[0m \u001b[0mx\u001b[0m\u001b[0;34m:\u001b[0m \u001b[0mx\u001b[0m\u001b[0;34m>\u001b[0m \u001b[0minterval\u001b[0m\u001b[0;34m,\u001b[0m \u001b[0my\u001b[0m\u001b[0;34m)\u001b[0m\u001b[0;34m)\u001b[0m\u001b[0;34m\u001b[0m\u001b[0m\n\u001b[1;32m     31\u001b[0m     \u001b[0mnearest_car\u001b[0m \u001b[0;34m=\u001b[0m \u001b[0my\u001b[0m\u001b[0;34m.\u001b[0m\u001b[0mindex\u001b[0m\u001b[0;34m(\u001b[0m\u001b[0mnearest_car_time\u001b[0m\u001b[0;34m)\u001b[0m\u001b[0;34m\u001b[0m\u001b[0m\n\u001b[0;32m---> 32\u001b[0;31m     \u001b[0mreal_on_time\u001b[0m \u001b[0;34m=\u001b[0m \u001b[0mlist\u001b[0m\u001b[0;34m(\u001b[0m\u001b[0mrecall_df\u001b[0m\u001b[0;34m.\u001b[0m\u001b[0miloc\u001b[0m\u001b[0;34m[\u001b[0m\u001b[0mnearest_car\u001b[0m\u001b[0;34m]\u001b[0m\u001b[0;34m[\u001b[0m\u001b[0;34m'到站时间戳'\u001b[0m\u001b[0;34m]\u001b[0m \u001b[0;34m)\u001b[0m\u001b[0;34m[\u001b[0m\u001b[0;36m0\u001b[0m\u001b[0;34m]\u001b[0m\u001b[0;34m\u001b[0m\u001b[0m\n\u001b[0m\u001b[1;32m     33\u001b[0m     \u001b[0mtime_local\u001b[0m \u001b[0;34m=\u001b[0m \u001b[0mtime\u001b[0m\u001b[0;34m.\u001b[0m\u001b[0mlocaltime\u001b[0m\u001b[0;34m(\u001b[0m\u001b[0mnearest_car_time\u001b[0m \u001b[0;34m-\u001b[0m \u001b[0minterval\u001b[0m\u001b[0;34m)\u001b[0m\u001b[0;34m\u001b[0m\u001b[0m\n\u001b[1;32m     34\u001b[0m     \u001b[0mprint\u001b[0m\u001b[0;34m(\u001b[0m\u001b[0;34m\"the bus of %s will arrival at %s hour %s min %s sec later\"\u001b[0m           \u001b[0;34m%\u001b[0m\u001b[0;34m(\u001b[0m\u001b[0mbusline\u001b[0m\u001b[0;34m,\u001b[0m\u001b[0mtime_local\u001b[0m\u001b[0;34m.\u001b[0m\u001b[0mtm_hour\u001b[0m\u001b[0;34m-\u001b[0m\u001b[0;36m8\u001b[0m\u001b[0;34m,\u001b[0m \u001b[0mtime_local\u001b[0m\u001b[0;34m.\u001b[0m\u001b[0mtm_min\u001b[0m\u001b[0;34m,\u001b[0m \u001b[0mtime_local\u001b[0m\u001b[0;34m.\u001b[0m\u001b[0mtm_sec\u001b[0m\u001b[0;34m)\u001b[0m\u001b[0;34m)\u001b[0m\u001b[0;34m\u001b[0m\u001b[0m\n",
      "\u001b[0;31mTypeError\u001b[0m: 'numpy.float64' object is not iterable"
     ]
    }
   ],
   "source": [
    "arrival_time('10065','上行', '银城路浦东南路', None )"
   ]
  },
  {
   "cell_type": "code",
   "execution_count": 452,
   "metadata": {
    "collapsed": true
   },
   "outputs": [],
   "source": [
    "busline='10065'\n",
    "direction='上行'\n",
    "aboard_station='银城路浦东南路'\n",
    "aboard_time=None"
   ]
  },
  {
   "cell_type": "code",
   "execution_count": 463,
   "metadata": {
    "collapsed": false
   },
   "outputs": [
    {
     "name": "stdout",
     "output_type": "stream",
     "text": [
      "the bus of 10065 will arrival at 1 hour 5 min 51 sec later\n",
      "its real arriving time is 86328.0\n"
     ]
    }
   ],
   "source": [
    "if busline != '10065':\n",
    "    print(\"对不起，该线路未建模\")\n",
    "#     return\n",
    "now = time.time()\n",
    "interval = interval_ts(now)\n",
    "if not aboard_time:\n",
    "    time_local = time.localtime(now)\n",
    "    dt = time.strftime(TM_FORMAT, time_local)\n",
    "    begin_dt = '2015-02-%s 00:00:00' % dt.split(' ')[0].split('-')[-1]\n",
    "    end_ts = time.mktime(time.strptime(begin_dt, TM_FORMAT)) + interval_ts(now)\n",
    "    begin_ts = end_ts - 60*70 # 我也不知道，一班车最长跑多久，先定70分钟吧\n",
    "recall_df = new_test_df.copy()    \n",
    "recall_df = recall_df.loc[(recall_df['原始首站时间戳']>begin_ts) & (recall_df['原始首站时间戳']<end_ts)]\n",
    "SZGJFX = 0 if direction=='上行' else 1\n",
    "bus_info = station_df.loc[(station_df['SZGJFX']==SZGJFX) & (station_df['ZDMC']==aboard_station)]\n",
    "if len(bus_info)==0:\n",
    "    print(\"输入乘车站台信息有误\")\n",
    "#     return\n",
    "station = list(bus_info['ZDID'])[0]\n",
    "recall_df = recall_df.loc[(recall_df['站台ID_'+station]==1.0) & (recall_df['上下行_'+direction]==1.0)]\n",
    "label = '到站时间戳'\n",
    "cols = columns.copy()\n",
    "cols.remove(label)\n",
    "cols.remove('原始首站时间戳') # 原始首站时间戳,是为了做伪实时预测，保留的\n",
    "X = np.mat(recall_df.loc[:,cols])\n",
    "y = list(recall_df[label])\n",
    "    \n",
    "nearest_car_time = min(filter(lambda x: x> interval, y))\n",
    "nearest_car = y.index(nearest_car_time)\n",
    "real_on_time = recall_df.iloc[nearest_car,:]['到站时间戳']\n",
    "time_local = time.localtime(nearest_car_time - interval)\n",
    "print(\"the bus of %s will arrival at %s hour %s min %s sec later\" \\\n",
    "          %(busline,time_local.tm_hour-8, time_local.tm_min, time_local.tm_sec))\n",
    "print(\"its real arriving time is %s\"% real_on_time)"
   ]
  },
  {
   "cell_type": "code",
   "execution_count": 457,
   "metadata": {
    "collapsed": false
   },
   "outputs": [
    {
     "data": {
      "text/plain": [
       "4"
      ]
     },
     "execution_count": 457,
     "metadata": {},
     "output_type": "execute_result"
    }
   ],
   "source": [
    "nearest_car"
   ]
  },
  {
   "cell_type": "code",
   "execution_count": 460,
   "metadata": {
    "collapsed": false
   },
   "outputs": [
    {
     "data": {
      "text/plain": [
       "86328.0"
      ]
     },
     "execution_count": 460,
     "metadata": {},
     "output_type": "execute_result"
    }
   ],
   "source": [
    "recall_df.iloc[nearest_car, :]['到站时间戳']"
   ]
  },
  {
   "cell_type": "code",
   "execution_count": 449,
   "metadata": {
    "collapsed": false
   },
   "outputs": [
    {
     "data": {
      "text/plain": [
       "(0, 6, 48)"
      ]
     },
     "execution_count": 449,
     "metadata": {},
     "output_type": "execute_result"
    }
   ],
   "source": []
  },
  {
   "cell_type": "code",
   "execution_count": 430,
   "metadata": {
    "collapsed": false
   },
   "outputs": [
    {
     "data": {
      "text/plain": [
       "array([ 79209.3140063 ,  80769.08440825,  80769.08440825])"
      ]
     },
     "execution_count": 430,
     "metadata": {},
     "output_type": "execute_result"
    }
   ],
   "source": [
    "lr_model.predict(X)"
   ]
  },
  {
   "cell_type": "code",
   "execution_count": 431,
   "metadata": {
    "collapsed": false
   },
   "outputs": [
    {
     "data": {
      "text/plain": [
       "79622.65949845314"
      ]
     },
     "execution_count": 431,
     "metadata": {},
     "output_type": "execute_result"
    }
   ],
   "source": [
    "interval_ts(now)"
   ]
  },
  {
   "cell_type": "code",
   "execution_count": null,
   "metadata": {
    "collapsed": true
   },
   "outputs": [],
   "source": []
  }
 ],
 "metadata": {
  "anaconda-cloud": {},
  "kernelspec": {
   "display_name": "Python [conda root]",
   "language": "python",
   "name": "conda-root-py"
  },
  "language_info": {
   "codemirror_mode": {
    "name": "ipython",
    "version": 3
   },
   "file_extension": ".py",
   "mimetype": "text/x-python",
   "name": "python",
   "nbconvert_exporter": "python",
   "pygments_lexer": "ipython3",
   "version": "3.5.2"
  }
 },
 "nbformat": 4,
 "nbformat_minor": 1
}
