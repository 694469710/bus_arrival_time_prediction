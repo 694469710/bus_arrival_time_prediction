{
 "cells": [
  {
   "cell_type": "code",
   "execution_count": 325,
   "metadata": {
    "collapsed": true
   },
   "outputs": [],
   "source": [
    "import pandas as pd\n",
    "import numpy as np\n",
    "import time\n",
    "TM_FORMAT = \"%Y-%m-%d %H:%M:%S\""
   ]
  },
  {
   "cell_type": "markdown",
   "metadata": {},
   "source": [
    "---\n",
    "1. 数据清洗预处理\n",
    "---\n",
    "包括辅助数据准备，训练集测试集数据生成\n",
    "\n",
    "---"
   ]
  },
  {
   "cell_type": "markdown",
   "metadata": {},
   "source": [
    "#### 1.1 辅助数据准备，清洗info，stationInfo等文件"
   ]
  },
  {
   "cell_type": "code",
   "execution_count": 326,
   "metadata": {
    "collapsed": false
   },
   "outputs": [],
   "source": [
    "info_df = pd.read_csv('../datasets/bus_streamdata/info.csv', encoding='gbk')\n",
    "stationInfo_df = pd.read_csv('../datasets/bus_streamdata/stationInfo.csv', encoding='gbk')"
   ]
  },
  {
   "cell_type": "code",
   "execution_count": 327,
   "metadata": {
    "collapsed": false,
    "scrolled": true
   },
   "outputs": [
    {
     "data": {
      "text/html": [
       "<div>\n",
       "<table border=\"1\" class=\"dataframe\">\n",
       "  <thead>\n",
       "    <tr style=\"text-align: right;\">\n",
       "      <th></th>\n",
       "      <th>线路编码</th>\n",
       "      <th>线路名称</th>\n",
       "      <th>设备编码</th>\n",
       "      <th>内部编码</th>\n",
       "      <th>车牌号</th>\n",
       "    </tr>\n",
       "  </thead>\n",
       "  <tbody>\n",
       "    <tr>\n",
       "      <th>0</th>\n",
       "      <td>60001.0</td>\n",
       "      <td>1001路</td>\n",
       "      <td>059L3352</td>\n",
       "      <td>W7B-105</td>\n",
       "      <td>沪D-82920</td>\n",
       "    </tr>\n",
       "    <tr>\n",
       "      <th>1</th>\n",
       "      <td>60001.0</td>\n",
       "      <td>1001路</td>\n",
       "      <td>059L2612</td>\n",
       "      <td>W7B-104</td>\n",
       "      <td>沪D-82142</td>\n",
       "    </tr>\n",
       "    <tr>\n",
       "      <th>2</th>\n",
       "      <td>60001.0</td>\n",
       "      <td>1001路</td>\n",
       "      <td>059L2722</td>\n",
       "      <td>W7B-106</td>\n",
       "      <td>沪D-82453</td>\n",
       "    </tr>\n",
       "    <tr>\n",
       "      <th>3</th>\n",
       "      <td>60001.0</td>\n",
       "      <td>1001路</td>\n",
       "      <td>059L2636</td>\n",
       "      <td>W7B-107</td>\n",
       "      <td>沪D-82247</td>\n",
       "    </tr>\n",
       "    <tr>\n",
       "      <th>4</th>\n",
       "      <td>60001.0</td>\n",
       "      <td>1001路</td>\n",
       "      <td>059L2739</td>\n",
       "      <td>W7B-108</td>\n",
       "      <td>沪D-82939</td>\n",
       "    </tr>\n",
       "  </tbody>\n",
       "</table>\n",
       "</div>"
      ],
      "text/plain": [
       "      线路编码   线路名称      设备编码     内部编码       车牌号\n",
       "0  60001.0  1001路  059L3352  W7B-105  沪D-82920\n",
       "1  60001.0  1001路  059L2612  W7B-104  沪D-82142\n",
       "2  60001.0  1001路  059L2722  W7B-106  沪D-82453\n",
       "3  60001.0  1001路  059L2636  W7B-107  沪D-82247\n",
       "4  60001.0  1001路  059L2739  W7B-108  沪D-82939"
      ]
     },
     "execution_count": 327,
     "metadata": {},
     "output_type": "execute_result"
    }
   ],
   "source": [
    "info_df.head()"
   ]
  },
  {
   "cell_type": "code",
   "execution_count": 328,
   "metadata": {
    "collapsed": false
   },
   "outputs": [
    {
     "data": {
      "text/html": [
       "<div>\n",
       "<table border=\"1\" class=\"dataframe\">\n",
       "  <thead>\n",
       "    <tr style=\"text-align: right;\">\n",
       "      <th></th>\n",
       "      <th>XLID</th>\n",
       "      <th>SZGJFX</th>\n",
       "      <th>ZDID</th>\n",
       "      <th>ZDMC</th>\n",
       "      <th>SOURCE_LON</th>\n",
       "      <th>SOURCE_LAT</th>\n",
       "    </tr>\n",
       "  </thead>\n",
       "  <tbody>\n",
       "    <tr>\n",
       "      <th>37</th>\n",
       "      <td>10065</td>\n",
       "      <td>0</td>\n",
       "      <td>797D0001</td>\n",
       "      <td>东昌路渡口</td>\n",
       "      <td>121.499570</td>\n",
       "      <td>31.232475</td>\n",
       "    </tr>\n",
       "    <tr>\n",
       "      <th>38</th>\n",
       "      <td>10065</td>\n",
       "      <td>0</td>\n",
       "      <td>7A7C0002</td>\n",
       "      <td>陆家嘴环路名商路</td>\n",
       "      <td>121.496410</td>\n",
       "      <td>31.237362</td>\n",
       "    </tr>\n",
       "    <tr>\n",
       "      <th>39</th>\n",
       "      <td>10065</td>\n",
       "      <td>0</td>\n",
       "      <td>7B7C0008</td>\n",
       "      <td>陆家嘴环路丰和路</td>\n",
       "      <td>121.496742</td>\n",
       "      <td>31.241407</td>\n",
       "    </tr>\n",
       "    <tr>\n",
       "      <th>40</th>\n",
       "      <td>10065</td>\n",
       "      <td>0</td>\n",
       "      <td>7B7E0017</td>\n",
       "      <td>银城路浦东南路</td>\n",
       "      <td>121.505110</td>\n",
       "      <td>31.243448</td>\n",
       "    </tr>\n",
       "    <tr>\n",
       "      <th>41</th>\n",
       "      <td>10065</td>\n",
       "      <td>0</td>\n",
       "      <td>7B7F000E</td>\n",
       "      <td>银城路日照路</td>\n",
       "      <td>121.510583</td>\n",
       "      <td>31.243902</td>\n",
       "    </tr>\n",
       "  </tbody>\n",
       "</table>\n",
       "</div>"
      ],
      "text/plain": [
       "     XLID  SZGJFX      ZDID      ZDMC  SOURCE_LON  SOURCE_LAT\n",
       "37  10065       0  797D0001     东昌路渡口  121.499570   31.232475\n",
       "38  10065       0  7A7C0002  陆家嘴环路名商路  121.496410   31.237362\n",
       "39  10065       0  7B7C0008  陆家嘴环路丰和路  121.496742   31.241407\n",
       "40  10065       0  7B7E0017   银城路浦东南路  121.505110   31.243448\n",
       "41  10065       0  7B7F000E    银城路日照路  121.510583   31.243902"
      ]
     },
     "execution_count": 328,
     "metadata": {},
     "output_type": "execute_result"
    }
   ],
   "source": [
    "# 线路ID，公交方向，站点ID，站点名称，经度，纬度\n",
    "station_df = stationInfo_df.loc[stationInfo_df['XLID']==10065]\n",
    "station_df.head()"
   ]
  },
  {
   "cell_type": "code",
   "execution_count": 329,
   "metadata": {
    "collapsed": true
   },
   "outputs": [],
   "source": [
    "# 站点有序编码器（不是one-hot, 后面仍然进行一次one-hot编码）\n",
    "up_station = station_df.loc[station_df['SZGJFX']==0]['ZDID']\n",
    "down_station = station_df.loc[station_df['SZGJFX']==1]['ZDID']\n",
    "keys = list(up_station) + list(down_station)\n",
    "values = list(range(len(up_station)))+ list(range(100, 100+len(down_station)))\n",
    "station_dict = dict(zip(keys, values))"
   ]
  },
  {
   "cell_type": "code",
   "execution_count": 330,
   "metadata": {
    "collapsed": false
   },
   "outputs": [
    {
     "data": {
      "text/plain": [
       "['797D0001', '7A7C0002', '7B7C0008', '948B0001', '938A0000', '938B0010']"
      ]
     },
     "execution_count": 330,
     "metadata": {},
     "output_type": "execute_result"
    }
   ],
   "source": [
    "# 上下行前三站，用来过滤首站计算错误班车\n",
    "init_stations = list(up_station)[:3]+ list(down_station)[:3]\n",
    "init_stations"
   ]
  },
  {
   "cell_type": "markdown",
   "metadata": {},
   "source": [
    "#### 1.2 训练集测试集生成（添加辅助数据，数据清洗等）"
   ]
  },
  {
   "cell_type": "markdown",
   "metadata": {},
   "source": [
    "设备号码,线路编码,站点编码,协议编号,进出站状态,方向,车载上报时间"
   ]
  },
  {
   "cell_type": "code",
   "execution_count": 331,
   "metadata": {
    "collapsed": true
   },
   "outputs": [],
   "source": [
    "bus_rdd1 = sc.textFile('./bus10065_201501').map(lambda x: x.split(','))\n",
    "bus_rdd2 = sc.textFile('./bus10065_201502').map(lambda x: x.split(','))"
   ]
  },
  {
   "cell_type": "code",
   "execution_count": 332,
   "metadata": {
    "collapsed": true
   },
   "outputs": [],
   "source": [
    "def getInitTime(values):\n",
    "    trip_values = []\n",
    "    init_time = time.mktime(time.strptime(values[0][6], TM_FORMAT)) # 进出站时间\n",
    "    init_station = values[0][2]\n",
    "    last_time = init_time\n",
    "    trip_values.append( values[0]+[init_time, init_time])\n",
    "    for value in values:\n",
    "        inout_time = time.mktime(time.strptime(value[6], TM_FORMAT)) # 进出站时间\n",
    "        interval = inout_time - last_time # 没想错的话一直大于零\n",
    "        if interval < 100: # 属于同一站台\n",
    "            continue\n",
    "        else:\n",
    "            if interval > 600:# 下一trip\n",
    "                init_time = inout_time\n",
    "                init_station = value[2]\n",
    "            last_time = time.mktime(time.strptime(value[6], TM_FORMAT))#及时更新last_time\n",
    "            if init_station in init_stations: # 如果“首站”在前三站里，就保留\n",
    "                value += [init_time, inout_time]\n",
    "                trip_values.append(value) # (可能会产生空的列表trip_values,后面要过滤一下)\n",
    "    return trip_values"
   ]
  },
  {
   "cell_type": "code",
   "execution_count": 347,
   "metadata": {
    "collapsed": true
   },
   "outputs": [],
   "source": [
    "def generate_dataset(bus_rdd):\n",
    "    bus_rdd = bus_rdd.map(lambda x: x+[x[6].split(' ')[0]])\n",
    "    bus_rdd = bus_rdd.sortBy(lambda x: (x[7], x[1], x[5], x[0], x[6])) # 按日期，路线，方向,车ID，时间等字段排序\n",
    "    # groupBy 日期，线路，方向，车ID\n",
    "    bus_init_and_onStation_time = bus_rdd.groupBy(lambda x: (x[7], x[1],x[5], x[0])).mapValues(list).mapValues(getInitTime)\n",
    "    bus_init_and_onStation_time = bus_init_and_onStation_time.map(lambda x: x[1]).flatMap(list)\n",
    "    bus_init_and_onStation_time = bus_init_and_onStation_time.filter(lambda x: len(x)>0).sortBy(lambda x: x[6])\n",
    "    return bus_init_and_onStation_time"
   ]
  },
  {
   "cell_type": "code",
   "execution_count": 348,
   "metadata": {
    "collapsed": true
   },
   "outputs": [],
   "source": [
    "# 生成带首站发车时间的原始训练集测试集（首站发车时间最重要，没有这无法建模）\n",
    "trainset = generate_dataset(bus_rdd1)\n",
    "testset = generate_dataset(bus_rdd2)"
   ]
  },
  {
   "cell_type": "markdown",
   "metadata": {},
   "source": [
    "---\n",
    "2. 特征工程\n",
    "---\n",
    "计算首站时间，添加GPS信息，时间戳改为相对时间戳等\n",
    "\n",
    "---"
   ]
  },
  {
   "cell_type": "markdown",
   "metadata": {},
   "source": [
    "(1) 添加GPS信息"
   ]
  },
  {
   "cell_type": "code",
   "execution_count": 349,
   "metadata": {
    "collapsed": true
   },
   "outputs": [],
   "source": [
    "# 添加GPS信息\n",
    "def add_gps_info(rdd_line):\n",
    "    station = rdd_line[2]\n",
    "    direction = 0 if rdd_line[5]=='上行' else 1\n",
    "    gps_info = station_df.loc[(station_df['ZDID']==station) & (station_df['SZGJFX']==direction)] #要用位运算bitwise\n",
    "    if len(gps_info) == 0:\n",
    "        return rdd_line + [None, None]\n",
    "    else:\n",
    "        lon = list(gps_info['SOURCE_LON'])[0]\n",
    "        lat = list(gps_info['SOURCE_LAT'])[0]\n",
    "        return rdd_line + [lon, lat]"
   ]
  },
  {
   "cell_type": "code",
   "execution_count": 350,
   "metadata": {
    "collapsed": true
   },
   "outputs": [],
   "source": [
    "# 添加GPS信息，找不到GPS信息的直接删掉（增加特征）\n",
    "trainset  = trainset.map(add_gps_info).filter(lambda x: (x[-1] is not None) & (x[-2] is not None)) # 去除没有GPS信息的\n",
    "testset  = testset.map(add_gps_info).filter(lambda x: (x[-1] is not None) & (x[-2] is not None))"
   ]
  },
  {
   "cell_type": "code",
   "execution_count": 351,
   "metadata": {
    "collapsed": false,
    "scrolled": false
   },
   "outputs": [
    {
     "data": {
      "text/plain": [
       "[['059L3051',\n",
       "  '10065',\n",
       "  '797D0001',\n",
       "  '43',\n",
       "  '出站',\n",
       "  '下行',\n",
       "  '2014-12-31 23:56:01',\n",
       "  '2014-12-31',\n",
       "  1420041361.0,\n",
       "  1420041361.0,\n",
       "  121.49963200000001,\n",
       "  31.232220000000002]]"
      ]
     },
     "execution_count": 351,
     "metadata": {},
     "output_type": "execute_result"
    }
   ],
   "source": [
    "trainset.take(1)"
   ]
  },
  {
   "cell_type": "code",
   "execution_count": 346,
   "metadata": {
    "collapsed": false,
    "scrolled": true
   },
   "outputs": [
    {
     "data": {
      "text/plain": [
       "(114574, 97896)"
      ]
     },
     "execution_count": 346,
     "metadata": {},
     "output_type": "execute_result"
    }
   ],
   "source": [
    "trainset.count(), testset.count()"
   ]
  },
  {
   "cell_type": "markdown",
   "metadata": {},
   "source": [
    "(2) 数据集转成dataframe，因为要做one-hot，我只会这一种方法"
   ]
  },
  {
   "cell_type": "code",
   "execution_count": 352,
   "metadata": {
    "collapsed": false
   },
   "outputs": [],
   "source": [
    "# 训练集转换成dataframe\n",
    "cols = ['车ID', '线路ID','站台ID','协议','进出站','上下行','时间','日期','首站时间戳', '到站时间戳', '经度','纬度']\n",
    "train_df = pd.DataFrame(trainset.collect(), columns=cols)\n",
    "test_df = pd.DataFrame(testset.collect(), columns=cols)"
   ]
  },
  {
   "cell_type": "code",
   "execution_count": 353,
   "metadata": {
    "collapsed": false,
    "scrolled": true
   },
   "outputs": [
    {
     "data": {
      "text/html": [
       "<div>\n",
       "<table border=\"1\" class=\"dataframe\">\n",
       "  <thead>\n",
       "    <tr style=\"text-align: right;\">\n",
       "      <th></th>\n",
       "      <th>车ID</th>\n",
       "      <th>线路ID</th>\n",
       "      <th>站台ID</th>\n",
       "      <th>协议</th>\n",
       "      <th>进出站</th>\n",
       "      <th>上下行</th>\n",
       "      <th>时间</th>\n",
       "      <th>日期</th>\n",
       "      <th>首站时间戳</th>\n",
       "      <th>到站时间戳</th>\n",
       "      <th>经度</th>\n",
       "      <th>纬度</th>\n",
       "    </tr>\n",
       "  </thead>\n",
       "  <tbody>\n",
       "    <tr>\n",
       "      <th>0</th>\n",
       "      <td>059L3051</td>\n",
       "      <td>10065</td>\n",
       "      <td>797D0001</td>\n",
       "      <td>43</td>\n",
       "      <td>出站</td>\n",
       "      <td>下行</td>\n",
       "      <td>2014-12-31 23:56:01</td>\n",
       "      <td>2014-12-31</td>\n",
       "      <td>1.420041e+09</td>\n",
       "      <td>1.420041e+09</td>\n",
       "      <td>121.499632</td>\n",
       "      <td>31.232220</td>\n",
       "    </tr>\n",
       "    <tr>\n",
       "      <th>1</th>\n",
       "      <td>059L3068</td>\n",
       "      <td>10065</td>\n",
       "      <td>7C82000D</td>\n",
       "      <td>42</td>\n",
       "      <td>进站</td>\n",
       "      <td>上行</td>\n",
       "      <td>2014-12-31 23:56:37</td>\n",
       "      <td>2014-12-31</td>\n",
       "      <td>1.420041e+09</td>\n",
       "      <td>1.420041e+09</td>\n",
       "      <td>121.527848</td>\n",
       "      <td>31.245802</td>\n",
       "    </tr>\n",
       "    <tr>\n",
       "      <th>2</th>\n",
       "      <td>059L2844</td>\n",
       "      <td>10065</td>\n",
       "      <td>868A0005</td>\n",
       "      <td>42</td>\n",
       "      <td>进站</td>\n",
       "      <td>上行</td>\n",
       "      <td>2014-12-31 23:56:39</td>\n",
       "      <td>2014-12-31</td>\n",
       "      <td>1.420041e+09</td>\n",
       "      <td>1.420041e+09</td>\n",
       "      <td>121.567517</td>\n",
       "      <td>31.292853</td>\n",
       "    </tr>\n",
       "  </tbody>\n",
       "</table>\n",
       "</div>"
      ],
      "text/plain": [
       "        车ID   线路ID      站台ID  协议 进出站 上下行                   时间          日期  \\\n",
       "0  059L3051  10065  797D0001  43  出站  下行  2014-12-31 23:56:01  2014-12-31   \n",
       "1  059L3068  10065  7C82000D  42  进站  上行  2014-12-31 23:56:37  2014-12-31   \n",
       "2  059L2844  10065  868A0005  42  进站  上行  2014-12-31 23:56:39  2014-12-31   \n",
       "\n",
       "          首站时间戳         到站时间戳          经度         纬度  \n",
       "0  1.420041e+09  1.420041e+09  121.499632  31.232220  \n",
       "1  1.420041e+09  1.420041e+09  121.527848  31.245802  \n",
       "2  1.420041e+09  1.420041e+09  121.567517  31.292853  "
      ]
     },
     "execution_count": 353,
     "metadata": {},
     "output_type": "execute_result"
    }
   ],
   "source": [
    "train_df.head(3)"
   ]
  },
  {
   "cell_type": "code",
   "execution_count": 354,
   "metadata": {
    "collapsed": false
   },
   "outputs": [],
   "source": [
    "# 相对时间戳（今天第几秒，而不时从上个世纪算起），今天的平移时间戳\n",
    "# 减小数据，节约计算的资源开销（因为一班车肯定同一天）\n",
    "def interval_ts(ts): \n",
    "    time_local = time.localtime(ts)\n",
    "    dt = time.strftime(\"%Y-%m-%d %H:%M:%S\",time_local)\n",
    "    ts = ts - time.mktime(time.strptime(dt.split(' ')[0]+' 00:00:00', TM_FORMAT))\n",
    "    return ts\n",
    "# 其实计算相对时间戳，可以放在前面求发车时间那里，不过当时没想到求相对时间"
   ]
  },
  {
   "cell_type": "markdown",
   "metadata": {},
   "source": [
    "清洗训练集，测试集（站台ID有序编码和one-hot编码，只说做了one-hot就行，时间戳改为相对时间戳，其他标称属性均做了one-hot编码）"
   ]
  },
  {
   "cell_type": "code",
   "execution_count": 405,
   "metadata": {
    "collapsed": true
   },
   "outputs": [],
   "source": [
    "def clean_dataset(df):\n",
    "    new_df = df.copy()\n",
    "    station = new_df['站台ID']\n",
    "    station = list(map(lambda x : station_dict.get(x, 90), station)) # 找不到的站台都编码90号，别说出去\n",
    "    new_df.insert(loc=0, column='站台号', value=station)\n",
    "    init_ts = new_df['首站时间戳']\n",
    "    new_df.insert(loc=0, column='原始首站时间戳', value=init_ts)\n",
    "    new_df['首站时间戳'] = list(map(interval_ts, init_ts))\n",
    "    on_ts = new_df['到站时间戳']\n",
    "    new_df['到站时间戳'] = list(map(interval_ts, on_ts))\n",
    "    cols = ['站台号','站台ID','协议','上下行','原始首站时间戳','首站时间戳', '到站时间戳', '经度','纬度']\n",
    "    new_df = pd.get_dummies(new_df.loc[:, cols])\n",
    "    return new_df"
   ]
  },
  {
   "cell_type": "code",
   "execution_count": 406,
   "metadata": {
    "collapsed": false,
    "scrolled": true
   },
   "outputs": [
    {
     "data": {
      "text/html": [
       "<div>\n",
       "<table border=\"1\" class=\"dataframe\">\n",
       "  <thead>\n",
       "    <tr style=\"text-align: right;\">\n",
       "      <th></th>\n",
       "      <th>站台号</th>\n",
       "      <th>原始首站时间戳</th>\n",
       "      <th>首站时间戳</th>\n",
       "      <th>到站时间戳</th>\n",
       "      <th>经度</th>\n",
       "      <th>纬度</th>\n",
       "      <th>站台ID_797D0001</th>\n",
       "      <th>站台ID_7A7C0001</th>\n",
       "      <th>站台ID_7A7C0002</th>\n",
       "      <th>站台ID_7B7C0004</th>\n",
       "      <th>...</th>\n",
       "      <th>站台ID_928B0005</th>\n",
       "      <th>站台ID_938A0000</th>\n",
       "      <th>站台ID_938A0001</th>\n",
       "      <th>站台ID_938B000E</th>\n",
       "      <th>站台ID_938B0010</th>\n",
       "      <th>站台ID_948B0001</th>\n",
       "      <th>协议_42</th>\n",
       "      <th>协议_43</th>\n",
       "      <th>上下行_上行</th>\n",
       "      <th>上下行_下行</th>\n",
       "    </tr>\n",
       "  </thead>\n",
       "  <tbody>\n",
       "    <tr>\n",
       "      <th>0</th>\n",
       "      <td>128</td>\n",
       "      <td>1.420041e+09</td>\n",
       "      <td>86161.0</td>\n",
       "      <td>86161.0</td>\n",
       "      <td>121.499632</td>\n",
       "      <td>31.232220</td>\n",
       "      <td>1.0</td>\n",
       "      <td>0.0</td>\n",
       "      <td>0.0</td>\n",
       "      <td>0.0</td>\n",
       "      <td>...</td>\n",
       "      <td>0.0</td>\n",
       "      <td>0.0</td>\n",
       "      <td>0.0</td>\n",
       "      <td>0.0</td>\n",
       "      <td>0.0</td>\n",
       "      <td>0.0</td>\n",
       "      <td>0.0</td>\n",
       "      <td>1.0</td>\n",
       "      <td>0.0</td>\n",
       "      <td>1.0</td>\n",
       "    </tr>\n",
       "    <tr>\n",
       "      <th>1</th>\n",
       "      <td>6</td>\n",
       "      <td>1.420041e+09</td>\n",
       "      <td>86197.0</td>\n",
       "      <td>86197.0</td>\n",
       "      <td>121.527848</td>\n",
       "      <td>31.245802</td>\n",
       "      <td>0.0</td>\n",
       "      <td>0.0</td>\n",
       "      <td>0.0</td>\n",
       "      <td>0.0</td>\n",
       "      <td>...</td>\n",
       "      <td>0.0</td>\n",
       "      <td>0.0</td>\n",
       "      <td>0.0</td>\n",
       "      <td>0.0</td>\n",
       "      <td>0.0</td>\n",
       "      <td>0.0</td>\n",
       "      <td>1.0</td>\n",
       "      <td>0.0</td>\n",
       "      <td>1.0</td>\n",
       "      <td>0.0</td>\n",
       "    </tr>\n",
       "    <tr>\n",
       "      <th>2</th>\n",
       "      <td>15</td>\n",
       "      <td>1.420041e+09</td>\n",
       "      <td>86199.0</td>\n",
       "      <td>86199.0</td>\n",
       "      <td>121.567517</td>\n",
       "      <td>31.292853</td>\n",
       "      <td>0.0</td>\n",
       "      <td>0.0</td>\n",
       "      <td>0.0</td>\n",
       "      <td>0.0</td>\n",
       "      <td>...</td>\n",
       "      <td>0.0</td>\n",
       "      <td>0.0</td>\n",
       "      <td>0.0</td>\n",
       "      <td>0.0</td>\n",
       "      <td>0.0</td>\n",
       "      <td>0.0</td>\n",
       "      <td>1.0</td>\n",
       "      <td>0.0</td>\n",
       "      <td>1.0</td>\n",
       "      <td>0.0</td>\n",
       "    </tr>\n",
       "    <tr>\n",
       "      <th>3</th>\n",
       "      <td>113</td>\n",
       "      <td>1.420041e+09</td>\n",
       "      <td>86200.0</td>\n",
       "      <td>86200.0</td>\n",
       "      <td>121.567080</td>\n",
       "      <td>31.293138</td>\n",
       "      <td>0.0</td>\n",
       "      <td>0.0</td>\n",
       "      <td>0.0</td>\n",
       "      <td>0.0</td>\n",
       "      <td>...</td>\n",
       "      <td>0.0</td>\n",
       "      <td>0.0</td>\n",
       "      <td>0.0</td>\n",
       "      <td>0.0</td>\n",
       "      <td>0.0</td>\n",
       "      <td>0.0</td>\n",
       "      <td>1.0</td>\n",
       "      <td>0.0</td>\n",
       "      <td>0.0</td>\n",
       "      <td>1.0</td>\n",
       "    </tr>\n",
       "    <tr>\n",
       "      <th>4</th>\n",
       "      <td>116</td>\n",
       "      <td>1.420042e+09</td>\n",
       "      <td>17.0</td>\n",
       "      <td>17.0</td>\n",
       "      <td>121.571715</td>\n",
       "      <td>31.274733</td>\n",
       "      <td>0.0</td>\n",
       "      <td>0.0</td>\n",
       "      <td>0.0</td>\n",
       "      <td>0.0</td>\n",
       "      <td>...</td>\n",
       "      <td>0.0</td>\n",
       "      <td>0.0</td>\n",
       "      <td>0.0</td>\n",
       "      <td>0.0</td>\n",
       "      <td>0.0</td>\n",
       "      <td>0.0</td>\n",
       "      <td>1.0</td>\n",
       "      <td>0.0</td>\n",
       "      <td>0.0</td>\n",
       "      <td>1.0</td>\n",
       "    </tr>\n",
       "  </tbody>\n",
       "</table>\n",
       "<p>5 rows × 66 columns</p>\n",
       "</div>"
      ],
      "text/plain": [
       "   站台号       原始首站时间戳    首站时间戳    到站时间戳          经度         纬度  站台ID_797D0001  \\\n",
       "0  128  1.420041e+09  86161.0  86161.0  121.499632  31.232220            1.0   \n",
       "1    6  1.420041e+09  86197.0  86197.0  121.527848  31.245802            0.0   \n",
       "2   15  1.420041e+09  86199.0  86199.0  121.567517  31.292853            0.0   \n",
       "3  113  1.420041e+09  86200.0  86200.0  121.567080  31.293138            0.0   \n",
       "4  116  1.420042e+09     17.0     17.0  121.571715  31.274733            0.0   \n",
       "\n",
       "   站台ID_7A7C0001  站台ID_7A7C0002  站台ID_7B7C0004   ...    站台ID_928B0005  \\\n",
       "0            0.0            0.0            0.0   ...              0.0   \n",
       "1            0.0            0.0            0.0   ...              0.0   \n",
       "2            0.0            0.0            0.0   ...              0.0   \n",
       "3            0.0            0.0            0.0   ...              0.0   \n",
       "4            0.0            0.0            0.0   ...              0.0   \n",
       "\n",
       "   站台ID_938A0000  站台ID_938A0001  站台ID_938B000E  站台ID_938B0010  站台ID_948B0001  \\\n",
       "0            0.0            0.0            0.0            0.0            0.0   \n",
       "1            0.0            0.0            0.0            0.0            0.0   \n",
       "2            0.0            0.0            0.0            0.0            0.0   \n",
       "3            0.0            0.0            0.0            0.0            0.0   \n",
       "4            0.0            0.0            0.0            0.0            0.0   \n",
       "\n",
       "   协议_42  协议_43  上下行_上行  上下行_下行  \n",
       "0    0.0    1.0     0.0     1.0  \n",
       "1    1.0    0.0     1.0     0.0  \n",
       "2    1.0    0.0     1.0     0.0  \n",
       "3    1.0    0.0     0.0     1.0  \n",
       "4    1.0    0.0     0.0     1.0  \n",
       "\n",
       "[5 rows x 66 columns]"
      ]
     },
     "execution_count": 406,
     "metadata": {},
     "output_type": "execute_result"
    }
   ],
   "source": [
    "new_train_df = clean_dataset(train_df)\n",
    "new_test_df = clean_dataset(test_df)\n",
    "new_train_df.head()"
   ]
  },
  {
   "cell_type": "markdown",
   "metadata": {},
   "source": [
    "---\n",
    "3. 模型\n",
    "---\n",
    "LR，Ridge/RidgeCV, Lasso, ElasticNet, xgboost\n",
    "\n",
    "---"
   ]
  },
  {
   "cell_type": "code",
   "execution_count": 357,
   "metadata": {
    "collapsed": true
   },
   "outputs": [],
   "source": [
    "from sklearn.linear_model import LinearRegression\n",
    "from sklearn.linear_model import Ridge, RidgeCV, ElasticNet, LassoCV, LassoLarsCV, LinearRegression, ElasticNetCV\n",
    "from sklearn.model_selection import cross_val_score\n",
    "import xgboost as xgb\n",
    "import matplotlib.pyplot as plt"
   ]
  },
  {
   "cell_type": "code",
   "execution_count": 407,
   "metadata": {
    "collapsed": false
   },
   "outputs": [],
   "source": [
    "label = '到站时间戳'\n",
    "cols = list(new_train_df.columns)\n",
    "cols.remove(label)\n",
    "cols.remove('原始首站时间戳') # 原始首站时间戳,是为了做伪实时预测，保留的\n",
    "X_train = np.mat(new_train_df.loc[:,cols])\n",
    "y_train = list(new_train_df[label])\n",
    "X_test = np.mat(new_test_df.loc[:,cols])\n",
    "y_test = list(new_test_df[label])"
   ]
  },
  {
   "cell_type": "markdown",
   "metadata": {},
   "source": [
    "### 3.1 模型交叉验证误差（为了选择合适的alpha值）"
   ]
  },
  {
   "cell_type": "code",
   "execution_count": 359,
   "metadata": {
    "collapsed": true
   },
   "outputs": [],
   "source": [
    "def rmse_cv(model):\n",
    "    rmse= np.sqrt(-cross_val_score(model, X_train, y_train, scoring=\"neg_mean_squared_error\", cv = 5))\n",
    "    return(rmse)"
   ]
  },
  {
   "cell_type": "code",
   "execution_count": 360,
   "metadata": {
    "collapsed": false
   },
   "outputs": [
    {
     "data": {
      "text/plain": [
       "[490.21056466584525,\n",
       " 490.45976126497771,\n",
       " 490.62637433287898,\n",
       " 490.68619273866244,\n",
       " 490.71598280940987,\n",
       " 490.74292338835056,\n",
       " 490.83559682553243,\n",
       " 490.95799135034929,\n",
       " 491.45950931513943,\n",
       " 492.38992634255692,\n",
       " 493.90593173929864]"
      ]
     },
     "execution_count": 360,
     "metadata": {},
     "output_type": "execute_result"
    }
   ],
   "source": [
    "model_ridge = Ridge()\n",
    "alphas = [0.05, 0.1, 0.3, 1, 3, 5, 10, 15, 30, 50, 75]\n",
    "cv_ridge = [rmse_cv(Ridge(alpha = alpha)).mean() for alpha in alphas]\n",
    "cv_ridge"
   ]
  },
  {
   "cell_type": "code",
   "execution_count": 361,
   "metadata": {
    "collapsed": false,
    "scrolled": true
   },
   "outputs": [
    {
     "data": {
      "image/png": "[encoded data removed]",
      "text/plain": [
       "<matplotlib.figure.Figure at 0x7fd60a2baa90>"
      ]
     },
     "metadata": {},
     "output_type": "display_data"
    }
   ],
   "source": [
    "cv_ridge = pd.Series(cv_ridge, index = alphas)\n",
    "cv_ridge.plot(title = \"Validation\")\n",
    "plt.xlabel(\"alpha\")\n",
    "plt.ylabel(\"rmse\")\n",
    "plt.show()"
   ]
  },
  {
   "cell_type": "code",
   "execution_count": 362,
   "metadata": {
    "collapsed": false
   },
   "outputs": [
    {
     "data": {
      "text/plain": [
       "490.21056466584525"
      ]
     },
     "execution_count": 362,
     "metadata": {},
     "output_type": "execute_result"
    }
   ],
   "source": [
    "cv_ridge.min()"
   ]
  },
  {
   "cell_type": "markdown",
   "metadata": {},
   "source": [
    "所以alpha应该选一个很小的值，从上图中"
   ]
  },
  {
   "cell_type": "markdown",
   "metadata": {},
   "source": [
    "(1) Ridge"
   ]
  },
  {
   "cell_type": "code",
   "execution_count": 363,
   "metadata": {
    "collapsed": false,
    "scrolled": true
   },
   "outputs": [
    {
     "data": {
      "text/plain": [
       "490.68619273866244"
      ]
     },
     "execution_count": 363,
     "metadata": {},
     "output_type": "execute_result"
    }
   ],
   "source": [
    "# Ridge\n",
    "model_ridge = Ridge(alpha=1).fit(X_train, y_train)\n",
    "rmse_ridge = rmse_cv(model_ridge).mean()\n",
    "rmse_ridge"
   ]
  },
  {
   "cell_type": "markdown",
   "metadata": {},
   "source": [
    "(2) Linear regression"
   ]
  },
  {
   "cell_type": "code",
   "execution_count": 364,
   "metadata": {
    "collapsed": false
   },
   "outputs": [
    {
     "data": {
      "text/plain": [
       "353.50415654032128"
      ]
     },
     "execution_count": 364,
     "metadata": {},
     "output_type": "execute_result"
    }
   ],
   "source": [
    "# Linear regression\n",
    "model_LinearRegr = LinearRegression()\n",
    "model_LinearRegr.fit(X_train, y_train)\n",
    "rmse_LinearRegr = rmse_cv(model_LinearRegr).mean()\n",
    "rmse_LinearRegr"
   ]
  },
  {
   "cell_type": "markdown",
   "metadata": {},
   "source": [
    "(3) RidgeCV"
   ]
  },
  {
   "cell_type": "code",
   "execution_count": 365,
   "metadata": {
    "collapsed": false
   },
   "outputs": [
    {
     "data": {
      "text/plain": [
       "3865.7465681080457"
      ]
     },
     "execution_count": 365,
     "metadata": {},
     "output_type": "execute_result"
    }
   ],
   "source": [
    "# RidgeCV （带CV都是自己内部设置一组alpha，自己找到最优的alpha）\n",
    "model_RidgeCV = RidgeCV()\n",
    "model_RidgeCV.fit(X_train, y_train)\n",
    "rmse_RidgeCV = rmse_cv(model_RidgeCV).mean()\n",
    "rmse_RidgeCV"
   ]
  },
  {
   "cell_type": "markdown",
   "metadata": {},
   "source": [
    "(4) ElasticNetCV"
   ]
  },
  {
   "cell_type": "code",
   "execution_count": 366,
   "metadata": {
    "collapsed": false
   },
   "outputs": [
    {
     "data": {
      "text/plain": [
       "986.66739772891435"
      ]
     },
     "execution_count": 366,
     "metadata": {},
     "output_type": "execute_result"
    }
   ],
   "source": [
    "# ElasticNetCV \n",
    "model_EN = ElasticNetCV()\n",
    "model_EN.fit(X_train, y_train)\n",
    "rmse_EN = rmse_cv(model_EN).mean()\n",
    "rmse_EN"
   ]
  },
  {
   "cell_type": "markdown",
   "metadata": {},
   "source": [
    "(5) LassoCV"
   ]
  },
  {
   "cell_type": "code",
   "execution_count": 367,
   "metadata": {
    "collapsed": false
   },
   "outputs": [
    {
     "data": {
      "text/plain": [
       "986.13049511875192"
      ]
     },
     "execution_count": 367,
     "metadata": {},
     "output_type": "execute_result"
    }
   ],
   "source": [
    "# LassoCV \n",
    "model_LassoCV= LassoCV()\n",
    "model_LassoCV.fit(X_train, y_train)\n",
    "rmse_LassoCV = rmse_cv(model_LassoCV).mean()\n",
    "rmse_LassoCV"
   ]
  },
  {
   "cell_type": "markdown",
   "metadata": {},
   "source": [
    "(7) xgboost"
   ]
  },
  {
   "cell_type": "code",
   "execution_count": 368,
   "metadata": {
    "collapsed": true
   },
   "outputs": [],
   "source": [
    "# xgboost\n",
    "dtrain = xgb.DMatrix(X_train, label = y_train)\n",
    "dtest = xgb.DMatrix(X_test)\n",
    "params = {\"max_depth\":2, \"eta\":0.1}\n",
    "model = xgb.cv(params, dtrain,  num_boost_round=500, early_stopping_rounds=100)"
   ]
  },
  {
   "cell_type": "code",
   "execution_count": 369,
   "metadata": {
    "collapsed": false
   },
   "outputs": [
    {
     "data": {
      "text/plain": [
       "361.14144900000002"
      ]
     },
     "execution_count": 369,
     "metadata": {},
     "output_type": "execute_result"
    }
   ],
   "source": [
    "rmse_xgb = model.values[-1,0]\n",
    "rmse_xgb"
   ]
  },
  {
   "cell_type": "markdown",
   "metadata": {},
   "source": [
    "(8) 图形化对比交叉验证结果"
   ]
  },
  {
   "cell_type": "code",
   "execution_count": 370,
   "metadata": {
    "collapsed": false,
    "scrolled": true
   },
   "outputs": [
    {
     "data": {
      "image/png": "[encoded data removed]",
      "text/plain": [
       "<matplotlib.figure.Figure at 0x7fd692008a58>"
      ]
     },
     "metadata": {},
     "output_type": "display_data"
    }
   ],
   "source": [
    "rmse_dict = {'data':[rmse_ridge, rmse_RidgeCV, rmse_LinearRegr, rmse_EN, rmse_LassoCV, rmse_xgb]}\n",
    "rmse_df = pd.DataFrame(data = rmse_dict, index = ['Ridge','RidgeCV','Linear regression','ElasticNetCV','LassoCV','xgboost'])\n",
    "rmse_df.plot.bar(legend = False, title = 'RMSE')\n",
    "plt.show()"
   ]
  },
  {
   "cell_type": "markdown",
   "metadata": {},
   "source": [
    "### 3.2 预测，评价（模型自带R^2，也求了RMSE）"
   ]
  },
  {
   "cell_type": "code",
   "execution_count": 371,
   "metadata": {
    "collapsed": true
   },
   "outputs": [],
   "source": [
    "# 均方误差\n",
    "def rmse(y_pred, y_true):\n",
    "    y_pred = np.array(y_pred)\n",
    "    y_true = np.array(y_true)\n",
    "    return np.sqrt(np.mean((y_true - y_pred) ** 2))"
   ]
  },
  {
   "cell_type": "code",
   "execution_count": 392,
   "metadata": {
    "collapsed": true
   },
   "outputs": [],
   "source": [
    "def mae(y_pred, y_true):\n",
    "    y_pred = np.array(y_pred)\n",
    "    y_true = np.array(y_true)\n",
    "    return np.mean(np.abs(y_pred - y_true))"
   ]
  },
  {
   "cell_type": "markdown",
   "metadata": {},
   "source": [
    "(1) LinearRegression"
   ]
  },
  {
   "cell_type": "code",
   "execution_count": 408,
   "metadata": {
    "collapsed": false
   },
   "outputs": [
    {
     "data": {
      "text/plain": [
       "(array([ -9.96297141e+01,   9.99212301e-01,   5.23392789e+05,\n",
       "         -1.00790400e+07,  -5.59129299e+05,  -4.92110782e+05,\n",
       "         -5.23369827e+05,  -4.61344422e+05,  -4.82642372e+05,\n",
       "         -4.46797452e+05,  -4.66022341e+05,  -4.46470275e+05,\n",
       "         -4.55981989e+05,  -4.64071137e+05,  -4.67781808e+05,\n",
       "         -4.39083295e+05,  -4.53557966e+05,  -4.28163514e+05,\n",
       "         -4.40190994e+05,  -4.15176933e+05,  -4.18308611e+05,\n",
       "         -3.44749863e+05,  -3.38945710e+05,  -2.53609182e+05,\n",
       "         -2.45971803e+05,  -1.73535409e+05,  -2.06530996e+05,\n",
       "         -2.18450844e+05,  -1.75797024e+05,  -1.00355665e+05,\n",
       "         -1.15530887e+05,  -7.31651642e+04,  -5.98053150e+04,\n",
       "          1.38128399e+04,   1.98518489e+03,   1.06807883e+05,\n",
       "          9.05160560e+04,   1.60713236e+05,   1.61354889e+05,\n",
       "          2.57871483e+05,   2.50524566e+05,   3.09516230e+05,\n",
       "          3.11038519e+05,   3.56304992e+05,   3.44579351e+05,\n",
       "          4.14675494e+05,   4.08308451e+05,   4.49884741e+05,\n",
       "          4.49909809e+05,   4.96504375e+05,   4.93089874e+05,\n",
       "          5.47081497e+05,   5.46539909e+05,   5.23558776e+05,\n",
       "          5.16313594e+05,   5.85492171e+05,   5.81665877e+05,\n",
       "          5.80718880e+05,   5.82758005e+05,   6.25124198e+05,\n",
       "          1.28528003e+03,  -1.28528003e+03,  -1.09343840e+02,\n",
       "          1.09343840e+02]), 251774739.63361219)"
      ]
     },
     "execution_count": 408,
     "metadata": {},
     "output_type": "execute_result"
    }
   ],
   "source": [
    "lr_model = LinearRegression()\n",
    "lr_model.fit(X_train, y_train)\n",
    "# 训练后的参数 w 和 b\n",
    "lr_model.coef_, lr_model.intercept_"
   ]
  },
  {
   "cell_type": "code",
   "execution_count": 393,
   "metadata": {
    "collapsed": false
   },
   "outputs": [
    {
     "data": {
      "text/plain": [
       "(179.52489746049505, 311.74046023703733)"
      ]
     },
     "execution_count": 393,
     "metadata": {},
     "output_type": "execute_result"
    }
   ],
   "source": [
    "lr_model.score(X_test, y_test) # R^2 分数\n",
    "y_pred_lr = lr_model.predict(X_test)\n",
    "mae(y_pred_lr, y_test), rmse(y_pred_lr, y_test)"
   ]
  },
  {
   "cell_type": "code",
   "execution_count": 394,
   "metadata": {
    "collapsed": false
   },
   "outputs": [
    {
     "data": {
      "text/plain": [
       "(array([ 88873.02432013,   7322.11971903,   7755.64235666,   7895.8617115 ,\n",
       "          8095.97369751,   8253.75439447,   8552.98840043,   8788.8327688 ,\n",
       "          9026.78451172,   9131.93353811]),\n",
       " [86024.0,\n",
       "  7230.0,\n",
       "  7603.0,\n",
       "  7708.0,\n",
       "  7879.0,\n",
       "  7982.0,\n",
       "  8258.0,\n",
       "  8440.0,\n",
       "  8571.0,\n",
       "  8690.0])"
      ]
     },
     "execution_count": 394,
     "metadata": {},
     "output_type": "execute_result"
    }
   ],
   "source": [
    "y_pred_lr[:10], y_test[:10]"
   ]
  },
  {
   "cell_type": "markdown",
   "metadata": {},
   "source": [
    "(2) RidgeCV"
   ]
  },
  {
   "cell_type": "code",
   "execution_count": 374,
   "metadata": {
    "collapsed": false
   },
   "outputs": [
    {
     "data": {
      "text/plain": [
       "1909.0644994396612"
      ]
     },
     "execution_count": 374,
     "metadata": {},
     "output_type": "execute_result"
    }
   ],
   "source": [
    "y_pred = model_RidgeCV.predict(X_test)\n",
    "rmse(y_pred, y_test)"
   ]
  },
  {
   "cell_type": "markdown",
   "metadata": {},
   "source": [
    "(3) EN"
   ]
  },
  {
   "cell_type": "code",
   "execution_count": 375,
   "metadata": {
    "collapsed": false
   },
   "outputs": [
    {
     "data": {
      "text/plain": [
       "936.84305078459272"
      ]
     },
     "execution_count": 375,
     "metadata": {},
     "output_type": "execute_result"
    }
   ],
   "source": [
    "y_pred = model_EN.predict(X_test)\n",
    "rmse(y_pred, y_test)"
   ]
  },
  {
   "cell_type": "markdown",
   "metadata": {},
   "source": [
    "(4) LassoCV"
   ]
  },
  {
   "cell_type": "code",
   "execution_count": 376,
   "metadata": {
    "collapsed": false
   },
   "outputs": [
    {
     "data": {
      "text/plain": [
       "936.38556973095865"
      ]
     },
     "execution_count": 376,
     "metadata": {},
     "output_type": "execute_result"
    }
   ],
   "source": [
    "y_pred = model_LassoCV.predict(X_test)\n",
    "rmse(y_pred, y_test)"
   ]
  },
  {
   "cell_type": "markdown",
   "metadata": {},
   "source": [
    "(5) xgboost"
   ]
  },
  {
   "cell_type": "code",
   "execution_count": 377,
   "metadata": {
    "collapsed": false,
    "scrolled": true
   },
   "outputs": [
    {
     "data": {
      "text/plain": [
       "357.76302753977978"
      ]
     },
     "execution_count": 377,
     "metadata": {},
     "output_type": "execute_result"
    }
   ],
   "source": [
    "xgb_model = xgb.XGBRegressor()\n",
    "xgb_model.fit(X_train, y_train)\n",
    "xgb_model.score(X_test, y_test)\n",
    "y_pred_xgb = xgb_model.predict(X_test)\n",
    "rmse(np.array(y_pred_xgb), np.array(y_test))"
   ]
  },
  {
   "cell_type": "markdown",
   "metadata": {},
   "source": [
    "(6) 最后，看看预测值和真实值"
   ]
  },
  {
   "cell_type": "code",
   "execution_count": 378,
   "metadata": {
    "collapsed": false,
    "scrolled": true
   },
   "outputs": [
    {
     "data": {
      "text/plain": [
       "(array([ 85955.5234375 ,   7336.04589844,   7484.80078125,   7552.39453125,\n",
       "          7640.89746094,   7721.90136719,   7892.82470703,   8331.98730469,\n",
       "          8926.73046875,   8972.58203125], dtype=float32),\n",
       " [86024.0,\n",
       "  7230.0,\n",
       "  7603.0,\n",
       "  7708.0,\n",
       "  7879.0,\n",
       "  7982.0,\n",
       "  8258.0,\n",
       "  8440.0,\n",
       "  8571.0,\n",
       "  8690.0])"
      ]
     },
     "execution_count": 378,
     "metadata": {},
     "output_type": "execute_result"
    }
   ],
   "source": [
    "# 看看这预测还是很准确的\n",
    "y_pred_xgb[:10],y_test[:10]"
   ]
  },
  {
   "cell_type": "markdown",
   "metadata": {},
   "source": [
    "---\n",
    "4. 伪实时预测接口\n",
    "---\n",
    "输入公交线路，上下行方向，上车站点，即可输出即将到站时间\n",
    "\n",
    "---"
   ]
  },
  {
   "cell_type": "code",
   "execution_count": 428,
   "metadata": {
    "collapsed": false,
    "scrolled": true
   },
   "outputs": [
    {
     "data": {
      "text/plain": [
       "['站台号',\n",
       " '原始首站时间戳',\n",
       " '首站时间戳',\n",
       " '到站时间戳',\n",
       " '经度',\n",
       " '纬度',\n",
       " '站台ID_797D0001',\n",
       " '站台ID_7A7C0001',\n",
       " '站台ID_7A7C0002',\n",
       " '站台ID_7B7C0004',\n",
       " '站台ID_7B7C0008',\n",
       " '站台ID_7B7E0015',\n",
       " '站台ID_7B7E0017',\n",
       " '站台ID_7B7E0018',\n",
       " '站台ID_7B7F000D',\n",
       " '站台ID_7B7F000E',\n",
       " '站台ID_7B800015',\n",
       " '站台ID_7C82000B',\n",
       " '站台ID_7C82000D',\n",
       " '站台ID_7C830010',\n",
       " '站台ID_7C830012',\n",
       " '站台ID_7C840013',\n",
       " '站台ID_7D84000C',\n",
       " '站台ID_7E860000',\n",
       " '站台ID_7F870000',\n",
       " '站台ID_81890001',\n",
       " '站台ID_8189000E',\n",
       " '站台ID_828A0000',\n",
       " '站台ID_828A0001',\n",
       " '站台ID_828A0002',\n",
       " '站台ID_828B0002',\n",
       " '站台ID_848B0000',\n",
       " '站台ID_848B0001',\n",
       " '站台ID_858A0000',\n",
       " '站台ID_858A0001',\n",
       " '站台ID_868A0000',\n",
       " '站台ID_868A0005',\n",
       " '站台ID_88890000',\n",
       " '站台ID_88890001',\n",
       " '站台ID_8A890000',\n",
       " '站台ID_8A890001',\n",
       " '站台ID_8C890000',\n",
       " '站台ID_8C890001',\n",
       " '站台ID_8D890000',\n",
       " '站台ID_8D890001',\n",
       " '站台ID_8E890000',\n",
       " '站台ID_8E890001',\n",
       " '站台ID_8F890000',\n",
       " '站台ID_8F890001',\n",
       " '站台ID_908A0000',\n",
       " '站台ID_908A0001',\n",
       " '站台ID_918A0006',\n",
       " '站台ID_918A0007',\n",
       " '站台ID_928B0000',\n",
       " '站台ID_928B0001',\n",
       " '站台ID_928B0003',\n",
       " '站台ID_928B0005',\n",
       " '站台ID_938A0000',\n",
       " '站台ID_938A0001',\n",
       " '站台ID_938B000E',\n",
       " '站台ID_938B0010',\n",
       " '站台ID_948B0001',\n",
       " '协议_42',\n",
       " '协议_43',\n",
       " '上下行_上行',\n",
       " '上下行_下行']"
      ]
     },
     "execution_count": 428,
     "metadata": {},
     "output_type": "execute_result"
    }
   ],
   "source": [
    "columns = list(new_train_df.columns)\n",
    "columns"
   ]
  },
  {
   "cell_type": "code",
   "execution_count": 450,
   "metadata": {
    "collapsed": true
   },
   "outputs": [],
   "source": [
    "import time,datetime\n",
    "def arrival_time(busline,direction,aboard_station, aboard_time):\n",
    "    if busline != '10065':\n",
    "        print(\"对不起，该线路未建模\")\n",
    "        return\n",
    "    now = time.time()\n",
    "    interval = interval_ts(now)\n",
    "    if not aboard_time:\n",
    "        time_local = time.localtime(now)\n",
    "        dt = time.strftime(TM_FORMAT, time_local)\n",
    "        begin_dt = '2015-02-%s 00:00:00' % dt.split(' ')[0].split('-')[-1]\n",
    "        end_ts = time.mktime(time.strptime(begin_dt, TM_FORMAT)) + interval_ts(now)\n",
    "        begin_ts = end_ts - 60*70 # 我也不知道，一班车最长跑多久，先定70分钟吧\n",
    "    recall_df = new_test_df.copy()    \n",
    "    recall_df = recall_df.loc[(recall_df['原始首站时间戳']>begin_ts) & (recall_df['原始首站时间戳']<end_ts)]\n",
    "    SZGJFX = 0 if direction=='上行' else 1\n",
    "    bus_info = station_df.loc[(station_df['SZGJFX']==SZGJFX) & (station_df['ZDMC']==aboard_station)]\n",
    "    if len(bus_info)==0:\n",
    "        print(\"输入乘车站台信息有误\")\n",
    "        return\n",
    "    station = list(bus_info['ZDID'])[0]\n",
    "    recall_df = recall_df.loc[(recall_df['站台ID_'+station]==1.0) & (recall_df['上下行_'+direction]==1.0)]\n",
    "    label = '到站时间戳'\n",
    "    cols = columns.copy()\n",
    "    cols.remove(label)\n",
    "    cols.remove('原始首站时间戳') # 原始首站时间戳,是为了做伪实时预测，保留的\n",
    "    X = np.mat(recall_df.loc[:,cols])\n",
    "    y = list(recall_df[label])\n",
    "    \n",
    "    nearest_car_time = min(filter(lambda x: x> interval, y))\n",
    "    nearest_car = y.index(nearest_car_time)\n",
    "    real_on_time = list(recall_df.iloc[nearest_car]['到站时间戳'] )[0]\n",
    "    time_local = time.localtime(nearest_car_time - interval)\n",
    "    print(\"the bus of %s will arrival at %s hour %s min %s sec later\" \\\n",
    "          %(busline,time_local.tm_hour-8, time_local.tm_min, time_local.tm_sec))\n",
    "    print(\"its real arriving time is %s\"% real_on_time)"
   ]
  },
  {
   "cell_type": "code",
   "execution_count": 451,
   "metadata": {
    "collapsed": false,
    "scrolled": true
   },
   "outputs": [
    {
     "ename": "TypeError",
     "evalue": "'numpy.float64' object is not iterable",
     "output_type": "error",
     "traceback": [
      "\u001b[0;31m---------------------------------------------------------------------------\u001b[0m",
      "\u001b[0;31mTypeError\u001b[0m                                 Traceback (most recent call last)",
      "\u001b[0;32m<ipython-input-451-69e020692d52>\u001b[0m in \u001b[0;36m<module>\u001b[0;34m()\u001b[0m\n\u001b[0;32m----> 1\u001b[0;31m \u001b[0marrival_time\u001b[0m\u001b[0;34m(\u001b[0m\u001b[0;34m'10065'\u001b[0m\u001b[0;34m,\u001b[0m\u001b[0;34m'上行'\u001b[0m\u001b[0;34m,\u001b[0m \u001b[0;34m'银城路浦东南路'\u001b[0m\u001b[0;34m,\u001b[0m \u001b[0;32mNone\u001b[0m \u001b[0;34m)\u001b[0m\u001b[0;34m\u001b[0m\u001b[0m\n\u001b[0m",
      "\u001b[0;32m<ipython-input-450-3f5e60f8b68f>\u001b[0m in \u001b[0;36marrival_time\u001b[0;34m(busline, direction, aboard_station, aboard_time)\u001b[0m\n\u001b[1;32m     30\u001b[0m     \u001b[0mnearest_car_time\u001b[0m \u001b[0;34m=\u001b[0m \u001b[0mmin\u001b[0m\u001b[0;34m(\u001b[0m\u001b[0mfilter\u001b[0m\u001b[0;34m(\u001b[0m\u001b[0;32mlambda\u001b[0m \u001b[0mx\u001b[0m\u001b[0;34m:\u001b[0m \u001b[0mx\u001b[0m\u001b[0;34m>\u001b[0m \u001b[0minterval\u001b[0m\u001b[0;34m,\u001b[0m \u001b[0my\u001b[0m\u001b[0;34m)\u001b[0m\u001b[0;34m)\u001b[0m\u001b[0;34m\u001b[0m\u001b[0m\n\u001b[1;32m     31\u001b[0m     \u001b[0mnearest_car\u001b[0m \u001b[0;34m=\u001b[0m \u001b[0my\u001b[0m\u001b[0;34m.\u001b[0m\u001b[0mindex\u001b[0m\u001b[0;34m(\u001b[0m\u001b[0mnearest_car_time\u001b[0m\u001b[0;34m)\u001b[0m\u001b[0;34m\u001b[0m\u001b[0m\n\u001b[0;32m---> 32\u001b[0;31m     \u001b[0mreal_on_time\u001b[0m \u001b[0;34m=\u001b[0m \u001b[0mlist\u001b[0m\u001b[0;34m(\u001b[0m\u001b[0mrecall_df\u001b[0m\u001b[0;34m.\u001b[0m\u001b[0miloc\u001b[0m\u001b[0;34m[\u001b[0m\u001b[0mnearest_car\u001b[0m\u001b[0;34m]\u001b[0m\u001b[0;34m[\u001b[0m\u001b[0;34m'到站时间戳'\u001b[0m\u001b[0;34m]\u001b[0m \u001b[0;34m)\u001b[0m\u001b[0;34m[\u001b[0m\u001b[0;36m0\u001b[0m\u001b[0;34m]\u001b[0m\u001b[0;34m\u001b[0m\u001b[0m\n\u001b[0m\u001b[1;32m     33\u001b[0m     \u001b[0mtime_local\u001b[0m \u001b[0;34m=\u001b[0m \u001b[0mtime\u001b[0m\u001b[0;34m.\u001b[0m\u001b[0mlocaltime\u001b[0m\u001b[0;34m(\u001b[0m\u001b[0mnearest_car_time\u001b[0m \u001b[0;34m-\u001b[0m \u001b[0minterval\u001b[0m\u001b[0;34m)\u001b[0m\u001b[0;34m\u001b[0m\u001b[0m\n\u001b[1;32m     34\u001b[0m     \u001b[0mprint\u001b[0m\u001b[0;34m(\u001b[0m\u001b[0;34m\"the bus of %s will arrival at %s hour %s min %s sec later\"\u001b[0m           \u001b[0;34m%\u001b[0m\u001b[0;34m(\u001b[0m\u001b[0mbusline\u001b[0m\u001b[0;34m,\u001b[0m\u001b[0mtime_local\u001b[0m\u001b[0;34m.\u001b[0m\u001b[0mtm_hour\u001b[0m\u001b[0;34m-\u001b[0m\u001b[0;36m8\u001b[0m\u001b[0;34m,\u001b[0m \u001b[0mtime_local\u001b[0m\u001b[0;34m.\u001b[0m\u001b[0mtm_min\u001b[0m\u001b[0;34m,\u001b[0m \u001b[0mtime_local\u001b[0m\u001b[0;34m.\u001b[0m\u001b[0mtm_sec\u001b[0m\u001b[0;34m)\u001b[0m\u001b[0;34m)\u001b[0m\u001b[0;34m\u001b[0m\u001b[0m\n",
      "\u001b[0;31mTypeError\u001b[0m: 'numpy.float64' object is not iterable"
     ]
    }
   ],
   "source": [
    "arrival_time('10065','上行', '银城路浦东南路', None )"
   ]
  },
  {
   "cell_type": "code",
   "execution_count": 452,
   "metadata": {
    "collapsed": true
   },
   "outputs": [],
   "source": [
    "busline='10065'\n",
    "direction='上行'\n",
    "aboard_station='银城路浦东南路'\n",
    "aboard_time=None"
   ]
  },
  {
   "cell_type": "code",
   "execution_count": 463,
   "metadata": {
    "collapsed": false
   },
   "outputs": [
    {
     "name": "stdout",
     "output_type": "stream",
     "text": [
      "the bus of 10065 will arrival at 1 hour 5 min 51 sec later\n",
      "its real arriving time is 86328.0\n"
     ]
    }
   ],
   "source": [
    "if busline != '10065':\n",
    "    print(\"对不起，该线路未建模\")\n",
    "#     return\n",
    "now = time.time()\n",
    "interval = interval_ts(now)\n",
    "if not aboard_time:\n",
    "    time_local = time.localtime(now)\n",
    "    dt = time.strftime(TM_FORMAT, time_local)\n",
    "    begin_dt = '2015-02-%s 00:00:00' % dt.split(' ')[0].split('-')[-1]\n",
    "    end_ts = time.mktime(time.strptime(begin_dt, TM_FORMAT)) + interval_ts(now)\n",
    "    begin_ts = end_ts - 60*70 # 我也不知道，一班车最长跑多久，先定70分钟吧\n",
    "recall_df = new_test_df.copy()    \n",
    "recall_df = recall_df.loc[(recall_df['原始首站时间戳']>begin_ts) & (recall_df['原始首站时间戳']<end_ts)]\n",
    "SZGJFX = 0 if direction=='上行' else 1\n",
    "bus_info = station_df.loc[(station_df['SZGJFX']==SZGJFX) & (station_df['ZDMC']==aboard_station)]\n",
    "if len(bus_info)==0:\n",
    "    print(\"输入乘车站台信息有误\")\n",
    "#     return\n",
    "station = list(bus_info['ZDID'])[0]\n",
    "recall_df = recall_df.loc[(recall_df['站台ID_'+station]==1.0) & (recall_df['上下行_'+direction]==1.0)]\n",
    "label = '到站时间戳'\n",
    "cols = columns.copy()\n",
    "cols.remove(label)\n",
    "cols.remove('原始首站时间戳') # 原始首站时间戳,是为了做伪实时预测，保留的\n",
    "X = np.mat(recall_df.loc[:,cols])\n",
    "y = list(recall_df[label])\n",
    "    \n",
    "nearest_car_time = min(filter(lambda x: x> interval, y))\n",
    "nearest_car = y.index(nearest_car_time)\n",
    "real_on_time = recall_df.iloc[nearest_car,:]['到站时间戳']\n",
    "time_local = time.localtime(nearest_car_time - interval)\n",
    "print(\"the bus of %s will arrival at %s hour %s min %s sec later\" \\\n",
    "          %(busline,time_local.tm_hour-8, time_local.tm_min, time_local.tm_sec))\n",
    "print(\"its real arriving time is %s\"% real_on_time)"
   ]
  },
  {
   "cell_type": "code",
   "execution_count": 457,
   "metadata": {
    "collapsed": false
   },
   "outputs": [
    {
     "data": {
      "text/plain": [
       "4"
      ]
     },
     "execution_count": 457,
     "metadata": {},
     "output_type": "execute_result"
    }
   ],
   "source": [
    "nearest_car"
   ]
  },
  {
   "cell_type": "code",
   "execution_count": 460,
   "metadata": {
    "collapsed": false
   },
   "outputs": [
    {
     "data": {
      "text/plain": [
       "86328.0"
      ]
     },
     "execution_count": 460,
     "metadata": {},
     "output_type": "execute_result"
    }
   ],
   "source": [
    "recall_df.iloc[nearest_car, :]['到站时间戳']"
   ]
  },
  {
   "cell_type": "code",
   "execution_count": 449,
   "metadata": {
    "collapsed": false
   },
   "outputs": [
    {
     "data": {
      "text/plain": [
       "(0, 6, 48)"
      ]
     },
     "execution_count": 449,
     "metadata": {},
     "output_type": "execute_result"
    }
   ],
   "source": []
  },
  {
   "cell_type": "code",
   "execution_count": 430,
   "metadata": {
    "collapsed": false
   },
   "outputs": [
    {
     "data": {
      "text/plain": [
       "array([ 79209.3140063 ,  80769.08440825,  80769.08440825])"
      ]
     },
     "execution_count": 430,
     "metadata": {},
     "output_type": "execute_result"
    }
   ],
   "source": [
    "lr_model.predict(X)"
   ]
  },
  {
   "cell_type": "code",
   "execution_count": 431,
   "metadata": {
    "collapsed": false
   },
   "outputs": [
    {
     "data": {
      "text/plain": [
       "79622.65949845314"
      ]
     },
     "execution_count": 431,
     "metadata": {},
     "output_type": "execute_result"
    }
   ],
   "source": [
    "interval_ts(now)"
   ]
  },
  {
   "cell_type": "code",
   "execution_count": null,
   "metadata": {
    "collapsed": true
   },
   "outputs": [],
   "source": []
  }
 ],
 "metadata": {
  "anaconda-cloud": {},
  "kernelspec": {
   "display_name": "Python [conda root]",
   "language": "python",
   "name": "conda-root-py"
  },
  "language_info": {
   "codemirror_mode": {
    "name": "ipython",
    "version": 3
   },
   "file_extension": ".py",
   "mimetype": "text/x-python",
   "name": "python",
   "nbconvert_exporter": "python",
   "pygments_lexer": "ipython3",
   "version": "3.5.2"
  }
 },
 "nbformat": 4,
 "nbformat_minor": 1
}
